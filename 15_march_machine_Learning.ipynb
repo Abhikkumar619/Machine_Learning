{
 "cells": [
  {
   "cell_type": "markdown",
   "id": "7b9c7c02-e9cd-4c6c-8be6-48ec4c94c55f",
   "metadata": {},
   "source": [
    "Explain\n",
    "1) Artificial Intelligence\n",
    "2) Machine Learning.\n",
    "3) Deep Learning\n"
   ]
  },
  {
   "cell_type": "code",
   "execution_count": null,
   "id": "32a2337e-1778-42f0-9224-8c53b7bfabd0",
   "metadata": {},
   "outputs": [],
   "source": [
    "\"\"\"\n",
    "Ai is smart application that can perfome its own task without any human interaction.\n",
    "A procedure or formula used to solvs a probelem, or series of instruction which tell a computer\n",
    "how to treansform a data set into useful information. \n",
    "\n",
    "\n",
    "Machine_Learning : It is subset  of AI, it provide statetools to analyse, visualize model, and perfome forcasting.\n",
    "                  basically it focuses on the use of data and algorithms to imitate the way that humans learn, gradually\n",
    "                  and improving its accuracy.\n",
    "                  \n",
    "                  \n",
    "\n",
    "Deep_learning: It another subset of ML. The main aim to mimic the human Brain.The neural network attempts to simulate the behavioe of the human brain.\n",
    "               deep leatning drives many artificial intelligence applications and services that improve automation, performing analytical and physical tasks without\n",
    "               human intervention.\n",
    "     \n",
    "\"\"\""
   ]
  },
  {
   "cell_type": "markdown",
   "id": "a3fc73b8-f08f-4310-98ea-13ca35bacac5",
   "metadata": {},
   "source": [
    "What is supervised learining? List some examples of supervised leatning."
   ]
  },
  {
   "cell_type": "code",
   "execution_count": null,
   "id": "7de4e603-d27b-4906-96b9-569bc3ba3a14",
   "metadata": {},
   "outputs": [],
   "source": [
    "\"\"\"\n",
    "Ans: Supervised learning is a type of ML that uses labeld to train machine learning model. in labeld data, the output \n",
    "    already known. The model just need to map the inputs to respective outputs.\n",
    "    \n",
    "    Example: 1.Indentifies the image of an animals.(we have to train our model so that it idntifies the pictures.\n",
    "            2. Determine whether student  pass or fail depends upone No_hours play and study.\n",
    "\"\"\""
   ]
  },
  {
   "cell_type": "markdown",
   "id": "38625295-c262-426d-8801-088a09822131",
   "metadata": {},
   "source": [
    "3. what is unspervised learning? List some example of unspervised learning."
   ]
  },
  {
   "cell_type": "code",
   "execution_count": null,
   "id": "358ebc61-36fe-4f81-a17c-eef2bff65ea5",
   "metadata": {},
   "outputs": [],
   "source": [
    "\"\"\"\n",
    "Unspervised learining is type of machine learning that uses unlabeld data to train machine. \n",
    "unlabeld data doesn't have fixed output variabe. the model learns from the data, and discovers the patterns and features to the data and return output.\n",
    "\n",
    "Example: Unspervised learning techique that uses the image of vechicles to clasify if ists a bus or truck .the model learn by indentifying the pairs of vechicle, such \n",
    "         a length and width of vehicle, Based on these truck. "
   ]
  },
  {
   "cell_type": "markdown",
   "id": "97121004-23f5-4b4c-be81-a58b29142c49",
   "metadata": {},
   "source": [
    "4. Difference between AI, ML, DL and DS. "
   ]
  },
  {
   "cell_type": "code",
   "execution_count": null,
   "id": "3d638076-8f6b-4bdf-a1ae-6b9011f4c20a",
   "metadata": {},
   "outputs": [],
   "source": [
    "\"\"\"\n",
    "AI : It is smart application that can perfome its own task without any human interaction.\n",
    "ML : It is subset if AI , it provide staetools to analyse, visualize, predicate model, and perfome forcasting.\n",
    "DL : Is another subset if ML. the main aim to mimin of human brain.\n",
    "\n",
    "DS: It is the intersection of AL, ML, DL, which include all thing relates to data."
   ]
  },
  {
   "cell_type": "markdown",
   "id": "2b162759-3638-4468-a8cc-1418d58119fc",
   "metadata": {},
   "source": [
    "5. What are the main differences between supervised, unspervised, and semi-supervised learing ?"
   ]
  },
  {
   "cell_type": "code",
   "execution_count": null,
   "id": "439a7a2e-b887-4796-9173-9e711a451bbc",
   "metadata": {},
   "outputs": [],
   "source": [
    "\"\"\"\n",
    "Supervised Learining: \n",
    "1. majority of algorithms machine is trained using well-labeled data, inputs and outputs are matched.\n",
    "2. Mapping function takes inputs and matches to outputs, creating a target function.\n",
    "3. subsets: Classifiation, Regression.\n",
    "Example: Linear regression, Random forest, SVM.\n",
    "\n",
    "\n",
    "Unspervised Learining: \n",
    "1. Unlabeled data(inputs only) is analysed. learning happen without supervision.\n",
    "2. Inputs are usef to create a model of the data.\n",
    "3. subtypes: clustering, association.\n",
    "4. Example: PCA, K-means.\n",
    "\n",
    "semi-spervised: \n",
    "1. Some data is labeled, some not goal-better results than labeled data alone, good for real world data.\n",
    "2. Combination of above process. \n",
    "3. All the above.\n",
    "4. self-training mixture -model.\n",
    "\n"
   ]
  },
  {
   "cell_type": "markdown",
   "id": "171d0b4f-eb69-42d8-953d-2d75fe645e54",
   "metadata": {},
   "source": [
    "6. what is train, test and validation split ? Explain the importance of eaxh term."
   ]
  },
  {
   "cell_type": "code",
   "execution_count": null,
   "id": "5892243f-ba4a-4738-b7e1-a53bee8a87c9",
   "metadata": {},
   "outputs": [],
   "source": [
    "\"\"\"\n",
    "Train : Training a model means learning good values for all the weights and the bias from labeled examples.\n",
    "        as we know Training ata is the foundation of any machine learning algorithm. it is the data that is used\n",
    "        to train the algorithm to recognize patterns and make predications.\n",
    "        The quality of training data directly impacts the accuracy and reliability of machine learing algorithm.\n",
    "        \n",
    "\n",
    "\n",
    "Test: Testing in machine learning means ensure that the system is perfome as expected or not.\n",
    "      it allows you to see how well model perfome on data that hasn't seen before , and typically used to assess the accuracy of model and \n",
    "      compare different models. \n",
    "     \n",
    "\n",
    "validation-split: It is way to predict the fit of model to a hypthetical testing set when an explicit testing set is not available.\n",
    "                  it is importance in machine learning because it allowa you to ecaluate how well your model generalizes to new data.\n",
    "                  \n",
    "\"\"\""
   ]
  },
  {
   "cell_type": "markdown",
   "id": "186199f4-4975-46f4-a212-45b085d85483",
   "metadata": {},
   "source": [
    "7. How can unsupervised learning be used in anomaly detection."
   ]
  },
  {
   "cell_type": "code",
   "execution_count": null,
   "id": "0ea326f8-019a-4f79-a85c-23b15396c34a",
   "metadata": {},
   "outputs": [],
   "source": [
    "\"\"\"\n",
    "Ans: Anomaly detection is a process of finding those rare items, data points, events, or observations that make suspicionus by being different\n",
    "     from the rest data points or obeservation. it is also knows as outlier detection.\n",
    "     Generaly, anomalous data is relates to some kind of probelms such as bank fraud, mediacl probelms, malfunction equipment."
   ]
  },
  {
   "cell_type": "markdown",
   "id": "69367301-0a92-40c7-8c33-9949b0055bcf",
   "metadata": {},
   "source": [
    "8. List some commonly used supervised learning algorithms and unsupervised learning algorithms."
   ]
  },
  {
   "cell_type": "code",
   "execution_count": null,
   "id": "75b436b1-e6a1-460a-9421-471140b28829",
   "metadata": {},
   "outputs": [],
   "source": [
    "\"\"\"\n",
    "Some Widely used supervised learning algorithms are: \n",
    "1. Support-Vector machines.\n",
    "2. Linear regression. \n",
    "3. Logistic regression. \n",
    "4. Naive Bayes. \n",
    "\n",
    "Unsupervised algorithms: \n",
    "1. k-means clustering.\n",
    "2. KNN (k-nearest neighbors).\n",
    "3. Anomaly detection.\n",
    "4. Principle Component Analysis.\n"
   ]
  }
 ],
 "metadata": {
  "kernelspec": {
   "display_name": "Python 3 (ipykernel)",
   "language": "python",
   "name": "python3"
  },
  "language_info": {
   "codemirror_mode": {
    "name": "ipython",
    "version": 3
   },
   "file_extension": ".py",
   "mimetype": "text/x-python",
   "name": "python",
   "nbconvert_exporter": "python",
   "pygments_lexer": "ipython3",
   "version": "3.10.8"
  }
 },
 "nbformat": 4,
 "nbformat_minor": 5
}
