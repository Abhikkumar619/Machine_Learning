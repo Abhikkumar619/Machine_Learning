{
 "cells": [
  {
   "cell_type": "markdown",
   "id": "3e6a2d46-998b-4ffa-a623-5ba407817ebe",
   "metadata": {},
   "source": [
    "Q1. What is the mathematical formula for a linear SVM?"
   ]
  },
  {
   "cell_type": "code",
   "execution_count": null,
   "id": "952513ee-08b2-4969-9c41-6509e98fce05",
   "metadata": {},
   "outputs": [],
   "source": [
    " \"\"\"\n",
    " The mathematical formula for linear SVM : \n",
    " y= W^T * x + b.\n",
    " \n",
    " W - slope\n",
    " x= is datapoint\n",
    " b= intercept.                         "
   ]
  },
  {
   "cell_type": "markdown",
   "id": "052d200a-601b-465a-b4fa-94c62207a6b3",
   "metadata": {},
   "source": [
    "Q2. What is the objective function of a linear SVM?"
   ]
  },
  {
   "cell_type": "code",
   "execution_count": null,
   "id": "17d946f5-4f5d-4865-90b5-0f6c5b190029",
   "metadata": {},
   "outputs": [],
   "source": [
    "\"\"\"\n",
    "The mian objective of support vector macchine to solve classiication problem by drawing best fit line along with two marginal\n",
    "plane which pass through nearest data point of categories (c1) and categories (c2) called support vector.and \n",
    "make sure that the distance between two marginal should be maximum.\n",
    "\"\"\""
   ]
  },
  {
   "cell_type": "markdown",
   "id": "6d96a966-95da-4b30-bd5d-389261ce92e9",
   "metadata": {},
   "source": [
    "Q3. What is the kernel trick in SVM?"
   ]
  },
  {
   "cell_type": "code",
   "execution_count": null,
   "id": "ec46b3fc-306a-462b-8f41-601360037f7c",
   "metadata": {},
   "outputs": [],
   "source": [
    "\"\"\"\n",
    "kernal trick in SVM is a method used to take data as input and transform it into the required from of processing data.\n",
    "\"kernal\" is used to set mathematical function used in support vector machine providing the window to manipulate the data.\n",
    "Generally transforms the training set of data so that non-linear decision surface is able to transform to a linear equation\n",
    "in higher number of dimenstion space.\n",
    "\"\"\""
   ]
  },
  {
   "cell_type": "markdown",
   "id": "780769aa-9bab-4196-a487-34500339653e",
   "metadata": {},
   "source": [
    "Q4. What is the role of support vectors in SVM Explain with example"
   ]
  },
  {
   "cell_type": "code",
   "execution_count": null,
   "id": "26ff5ffe-a460-43ff-b13b-ced3c47290ad",
   "metadata": {},
   "outputs": [],
   "source": [
    "\"\"\"\n",
    "In the support vector machine(SVM), support vactor play a curcial role in defining the decision boundary between different \n",
    "classes.\n",
    "The main idea behind SVM is to find a hyperplane that maximumally separates the classes in the features space. int he most case,\n",
    "the data point are not perfectly separate, and there may be some or noise in the data. In this SVM handle this case by allowing \n",
    "a certian amount of misclassification or marginal violations.\n",
    "\"\"\""
   ]
  },
  {
   "cell_type": "markdown",
   "id": "6d54e8b0-58d3-4e66-b482-03882e407844",
   "metadata": {},
   "source": [
    "Q5. Illustrate with examples and graphs of Hyperplane, Marginal plane, Soft margin and Hard margin in\n",
    "SVM?"
   ]
  },
  {
   "cell_type": "code",
   "execution_count": null,
   "id": "5e639757-297d-48aa-a3a4-16654b35c96c",
   "metadata": {},
   "outputs": [],
   "source": [
    "\"\"\"\n",
    "Hyperplane: The hyperplane is the decision boundary that separate tha classes. in a binary \n",
    "classification probelm, the hyperplane is a line in a 2D features sapce, or 3D features space and hyperplane is higher dimension spaces. it represents by the equation.\n",
    "\n",
    "MArginal plane: The marginal plane is a parallel plane that runs closest to the hyperplane and touches the support vector. it helps to find margin in SVM.\n",
    "\n",
    "Soft margin: The dataset have some misclassified but still model can predict correct datapoint are called soft margin.\n",
    "             IT introduces a penalty term(c) to the objective function, balancing the margin size and the number of missclassified points,\n",
    "             \n",
    "Hard margin: If the dataset are clearly seprate that we called as hard margin.\n"
   ]
  },
  {
   "cell_type": "markdown",
   "id": "66259a6a-636e-4ec8-a88b-d724dcb06149",
   "metadata": {},
   "source": [
    "Q6. SVM Implementation through Iris dataset."
   ]
  },
  {
   "cell_type": "code",
   "execution_count": 1,
   "id": "668b0e33-3eb3-4efd-bb18-9a6d4b82b1a2",
   "metadata": {},
   "outputs": [],
   "source": [
    "import pandas as pd\n",
    "import numpy as np\n",
    "import seaborn as sns\n",
    "from sklearn.svm import SVC\n",
    "from sklearn.datasets import load_iris"
   ]
  },
  {
   "cell_type": "code",
   "execution_count": 2,
   "id": "ebf6a3d0-89e6-446d-b658-a17f96541498",
   "metadata": {},
   "outputs": [],
   "source": [
    "data=load_iris()"
   ]
  },
  {
   "cell_type": "code",
   "execution_count": 3,
   "id": "0d6b4a3d-25f2-48fa-887e-1f01284b71e8",
   "metadata": {},
   "outputs": [
    {
     "data": {
      "text/plain": [
       "dict_keys(['data', 'target', 'frame', 'target_names', 'DESCR', 'feature_names', 'filename', 'data_module'])"
      ]
     },
     "execution_count": 3,
     "metadata": {},
     "output_type": "execute_result"
    }
   ],
   "source": [
    "data.keys()"
   ]
  },
  {
   "cell_type": "code",
   "execution_count": 4,
   "id": "d9fa94ef-2bb4-4d06-92bd-ee5ace1cda23",
   "metadata": {},
   "outputs": [],
   "source": [
    "df=pd.DataFrame(data.data, columns=data.feature_names)"
   ]
  },
  {
   "cell_type": "code",
   "execution_count": 5,
   "id": "21d34dad-4d87-4d3f-986b-e2ef61ff3060",
   "metadata": {},
   "outputs": [],
   "source": [
    "df['target']=data.target"
   ]
  },
  {
   "cell_type": "code",
   "execution_count": 6,
   "id": "35e6d9d8-a858-4c8c-a529-19d35f402059",
   "metadata": {},
   "outputs": [],
   "source": [
    "df.to_csv('iris.csv')"
   ]
  },
  {
   "cell_type": "code",
   "execution_count": 7,
   "id": "121800e3-485d-45cd-9ef7-a3630da325c5",
   "metadata": {},
   "outputs": [
    {
     "data": {
      "text/plain": [
       "['sepal length (cm)',\n",
       " 'sepal width (cm)',\n",
       " 'petal length (cm)',\n",
       " 'petal width (cm)']"
      ]
     },
     "execution_count": 7,
     "metadata": {},
     "output_type": "execute_result"
    }
   ],
   "source": [
    "data.feature_names"
   ]
  },
  {
   "cell_type": "code",
   "execution_count": 8,
   "id": "3d47ae66-8b39-4f04-b7dc-4d4a6b28af53",
   "metadata": {},
   "outputs": [],
   "source": [
    "x=df.drop(['target'], axis=1)"
   ]
  },
  {
   "cell_type": "code",
   "execution_count": 9,
   "id": "5d0fbe54-d8a7-4502-ad2d-b4e16116afeb",
   "metadata": {},
   "outputs": [],
   "source": [
    "y=df['target']"
   ]
  },
  {
   "cell_type": "code",
   "execution_count": 10,
   "id": "ab294bf8-0902-49ce-ada7-4fe2050a0afe",
   "metadata": {},
   "outputs": [
    {
     "data": {
      "text/plain": [
       "145    2\n",
       "146    2\n",
       "147    2\n",
       "148    2\n",
       "149    2\n",
       "Name: target, dtype: int64"
      ]
     },
     "execution_count": 10,
     "metadata": {},
     "output_type": "execute_result"
    }
   ],
   "source": [
    "y.tail()"
   ]
  },
  {
   "cell_type": "code",
   "execution_count": 11,
   "id": "77944bc4-85d6-4a77-aaf8-64e298e8eec4",
   "metadata": {},
   "outputs": [
    {
     "data": {
      "text/plain": [
       "(150,)"
      ]
     },
     "execution_count": 11,
     "metadata": {},
     "output_type": "execute_result"
    }
   ],
   "source": [
    "y.shape"
   ]
  },
  {
   "cell_type": "code",
   "execution_count": 12,
   "id": "bb5ce7c0-c130-436a-b707-372dfbb089d5",
   "metadata": {},
   "outputs": [
    {
     "data": {
      "text/plain": [
       "(150, 4)"
      ]
     },
     "execution_count": 12,
     "metadata": {},
     "output_type": "execute_result"
    }
   ],
   "source": [
    "x.shape"
   ]
  },
  {
   "cell_type": "markdown",
   "id": "db9acd21-0adf-4f2d-9c9a-a60c52aa5b02",
   "metadata": {},
   "source": [
    "~ Load the iris dataset from the scikit-learn library and split it into a training set and a testing setl"
   ]
  },
  {
   "cell_type": "code",
   "execution_count": 13,
   "id": "a946ea21-0e83-4430-81a8-d3e5efbf22a8",
   "metadata": {},
   "outputs": [],
   "source": [
    "from sklearn.model_selection import train_test_split"
   ]
  },
  {
   "cell_type": "code",
   "execution_count": 14,
   "id": "3be69cd0-b096-4db5-a1d1-0e53edc0a880",
   "metadata": {},
   "outputs": [],
   "source": [
    "x_train, x_test, y_train , y_test=train_test_split(x,y, test_size=0.33, random_state=42)"
   ]
  },
  {
   "cell_type": "code",
   "execution_count": 15,
   "id": "2beb17f7-ac36-4ab6-aa41-55e14108fa23",
   "metadata": {},
   "outputs": [
    {
     "data": {
      "text/plain": [
       "((100, 4), (50, 4), (100,), (50,))"
      ]
     },
     "execution_count": 15,
     "metadata": {},
     "output_type": "execute_result"
    }
   ],
   "source": [
    "x_train.shape, x_test.shape, y_train.shape , y_test.shape"
   ]
  },
  {
   "cell_type": "markdown",
   "id": "9cec04fb-b28e-4528-a9cd-40cd207fa5a2",
   "metadata": {},
   "source": [
    "~ Train a linear SVM classifier on the training set and predict the labels for the testing setl"
   ]
  },
  {
   "cell_type": "code",
   "execution_count": 16,
   "id": "c32a526d-b898-47e4-904a-ea9c3bc6567e",
   "metadata": {},
   "outputs": [],
   "source": [
    "from sklearn.svm import SVC"
   ]
  },
  {
   "cell_type": "code",
   "execution_count": 17,
   "id": "96d299dc-ebca-4e8c-9e34-e821302016fd",
   "metadata": {},
   "outputs": [],
   "source": [
    "obj_svm=SVC(kernel='linear')"
   ]
  },
  {
   "cell_type": "code",
   "execution_count": 18,
   "id": "fc9a372a-c316-4db9-a44d-5df9cab7a743",
   "metadata": {},
   "outputs": [
    {
     "data": {
      "text/html": [
       "<style>#sk-container-id-1 {color: black;background-color: white;}#sk-container-id-1 pre{padding: 0;}#sk-container-id-1 div.sk-toggleable {background-color: white;}#sk-container-id-1 label.sk-toggleable__label {cursor: pointer;display: block;width: 100%;margin-bottom: 0;padding: 0.3em;box-sizing: border-box;text-align: center;}#sk-container-id-1 label.sk-toggleable__label-arrow:before {content: \"▸\";float: left;margin-right: 0.25em;color: #696969;}#sk-container-id-1 label.sk-toggleable__label-arrow:hover:before {color: black;}#sk-container-id-1 div.sk-estimator:hover label.sk-toggleable__label-arrow:before {color: black;}#sk-container-id-1 div.sk-toggleable__content {max-height: 0;max-width: 0;overflow: hidden;text-align: left;background-color: #f0f8ff;}#sk-container-id-1 div.sk-toggleable__content pre {margin: 0.2em;color: black;border-radius: 0.25em;background-color: #f0f8ff;}#sk-container-id-1 input.sk-toggleable__control:checked~div.sk-toggleable__content {max-height: 200px;max-width: 100%;overflow: auto;}#sk-container-id-1 input.sk-toggleable__control:checked~label.sk-toggleable__label-arrow:before {content: \"▾\";}#sk-container-id-1 div.sk-estimator input.sk-toggleable__control:checked~label.sk-toggleable__label {background-color: #d4ebff;}#sk-container-id-1 div.sk-label input.sk-toggleable__control:checked~label.sk-toggleable__label {background-color: #d4ebff;}#sk-container-id-1 input.sk-hidden--visually {border: 0;clip: rect(1px 1px 1px 1px);clip: rect(1px, 1px, 1px, 1px);height: 1px;margin: -1px;overflow: hidden;padding: 0;position: absolute;width: 1px;}#sk-container-id-1 div.sk-estimator {font-family: monospace;background-color: #f0f8ff;border: 1px dotted black;border-radius: 0.25em;box-sizing: border-box;margin-bottom: 0.5em;}#sk-container-id-1 div.sk-estimator:hover {background-color: #d4ebff;}#sk-container-id-1 div.sk-parallel-item::after {content: \"\";width: 100%;border-bottom: 1px solid gray;flex-grow: 1;}#sk-container-id-1 div.sk-label:hover label.sk-toggleable__label {background-color: #d4ebff;}#sk-container-id-1 div.sk-serial::before {content: \"\";position: absolute;border-left: 1px solid gray;box-sizing: border-box;top: 0;bottom: 0;left: 50%;z-index: 0;}#sk-container-id-1 div.sk-serial {display: flex;flex-direction: column;align-items: center;background-color: white;padding-right: 0.2em;padding-left: 0.2em;position: relative;}#sk-container-id-1 div.sk-item {position: relative;z-index: 1;}#sk-container-id-1 div.sk-parallel {display: flex;align-items: stretch;justify-content: center;background-color: white;position: relative;}#sk-container-id-1 div.sk-item::before, #sk-container-id-1 div.sk-parallel-item::before {content: \"\";position: absolute;border-left: 1px solid gray;box-sizing: border-box;top: 0;bottom: 0;left: 50%;z-index: -1;}#sk-container-id-1 div.sk-parallel-item {display: flex;flex-direction: column;z-index: 1;position: relative;background-color: white;}#sk-container-id-1 div.sk-parallel-item:first-child::after {align-self: flex-end;width: 50%;}#sk-container-id-1 div.sk-parallel-item:last-child::after {align-self: flex-start;width: 50%;}#sk-container-id-1 div.sk-parallel-item:only-child::after {width: 0;}#sk-container-id-1 div.sk-dashed-wrapped {border: 1px dashed gray;margin: 0 0.4em 0.5em 0.4em;box-sizing: border-box;padding-bottom: 0.4em;background-color: white;}#sk-container-id-1 div.sk-label label {font-family: monospace;font-weight: bold;display: inline-block;line-height: 1.2em;}#sk-container-id-1 div.sk-label-container {text-align: center;}#sk-container-id-1 div.sk-container {/* jupyter's `normalize.less` sets `[hidden] { display: none; }` but bootstrap.min.css set `[hidden] { display: none !important; }` so we also need the `!important` here to be able to override the default hidden behavior on the sphinx rendered scikit-learn.org. See: https://github.com/scikit-learn/scikit-learn/issues/21755 */display: inline-block !important;position: relative;}#sk-container-id-1 div.sk-text-repr-fallback {display: none;}</style><div id=\"sk-container-id-1\" class=\"sk-top-container\"><div class=\"sk-text-repr-fallback\"><pre>SVC(kernel=&#x27;linear&#x27;)</pre><b>In a Jupyter environment, please rerun this cell to show the HTML representation or trust the notebook. <br />On GitHub, the HTML representation is unable to render, please try loading this page with nbviewer.org.</b></div><div class=\"sk-container\" hidden><div class=\"sk-item\"><div class=\"sk-estimator sk-toggleable\"><input class=\"sk-toggleable__control sk-hidden--visually\" id=\"sk-estimator-id-1\" type=\"checkbox\" checked><label for=\"sk-estimator-id-1\" class=\"sk-toggleable__label sk-toggleable__label-arrow\">SVC</label><div class=\"sk-toggleable__content\"><pre>SVC(kernel=&#x27;linear&#x27;)</pre></div></div></div></div></div>"
      ],
      "text/plain": [
       "SVC(kernel='linear')"
      ]
     },
     "execution_count": 18,
     "metadata": {},
     "output_type": "execute_result"
    }
   ],
   "source": [
    "obj_svm.fit(x_train, y_train)"
   ]
  },
  {
   "cell_type": "code",
   "execution_count": 19,
   "id": "fc69d10b-935b-457a-bab3-02956392bf1b",
   "metadata": {},
   "outputs": [],
   "source": [
    "y_pred=obj_svm.predict(x_test)"
   ]
  },
  {
   "cell_type": "code",
   "execution_count": 20,
   "id": "f6fd9d21-78a1-4ba8-a1a3-1cc64109edac",
   "metadata": {},
   "outputs": [
    {
     "data": {
      "text/plain": [
       "array([1, 0, 2, 1, 1, 0, 1, 2, 1, 1, 2, 0, 0, 0, 0, 1, 2, 1, 1, 2, 0, 2,\n",
       "       0, 2, 2, 2, 2, 2, 0, 0, 0, 0, 1, 0, 0, 2, 1, 0, 0, 0, 2, 1, 1, 0,\n",
       "       0, 1, 2, 2, 1, 2])"
      ]
     },
     "execution_count": 20,
     "metadata": {},
     "output_type": "execute_result"
    }
   ],
   "source": [
    "y_pred"
   ]
  },
  {
   "cell_type": "markdown",
   "id": "5bcd6219-606e-40e2-b18b-61f410aecc78",
   "metadata": {},
   "source": [
    "~ Compute the accuracy of the model on the testing setl"
   ]
  },
  {
   "cell_type": "code",
   "execution_count": 21,
   "id": "a31ba1d1-741c-4ab1-928d-d968381252d9",
   "metadata": {},
   "outputs": [],
   "source": [
    "from sklearn.metrics import accuracy_score, confusion_matrix, classification_report"
   ]
  },
  {
   "cell_type": "code",
   "execution_count": 22,
   "id": "333d6611-7fb9-4f03-b4e2-ac6b8afad322",
   "metadata": {},
   "outputs": [
    {
     "name": "stdout",
     "output_type": "stream",
     "text": [
      "1.0\n",
      "[[19  0  0]\n",
      " [ 0 15  0]\n",
      " [ 0  0 16]]\n",
      "              precision    recall  f1-score   support\n",
      "\n",
      "           0       1.00      1.00      1.00        19\n",
      "           1       1.00      1.00      1.00        15\n",
      "           2       1.00      1.00      1.00        16\n",
      "\n",
      "    accuracy                           1.00        50\n",
      "   macro avg       1.00      1.00      1.00        50\n",
      "weighted avg       1.00      1.00      1.00        50\n",
      "\n"
     ]
    }
   ],
   "source": [
    "print(accuracy_score(y_test, y_pred))\n",
    "print(confusion_matrix(y_test, y_pred))\n",
    "print(classification_report(y_test, y_pred))"
   ]
  },
  {
   "cell_type": "markdown",
   "id": "9a1536ed-4c3d-40a7-a938-e6facf0d9d97",
   "metadata": {},
   "source": [
    "~ Plot the decision boundaries of the trained model using two of the featuresl"
   ]
  },
  {
   "cell_type": "code",
   "execution_count": 23,
   "id": "db68fea4-98ce-44b9-bc26-83c9480782a6",
   "metadata": {},
   "outputs": [
    {
     "data": {
      "text/plain": [
       "['sepal length (cm)',\n",
       " 'sepal width (cm)',\n",
       " 'petal length (cm)',\n",
       " 'petal width (cm)']"
      ]
     },
     "execution_count": 23,
     "metadata": {},
     "output_type": "execute_result"
    }
   ],
   "source": [
    "data.feature_names"
   ]
  },
  {
   "cell_type": "code",
   "execution_count": 25,
   "id": "90fa21c0-8f45-4fa2-a0d6-4f3130e37397",
   "metadata": {},
   "outputs": [
    {
     "data": {
      "text/plain": [
       "<AxesSubplot: xlabel='sepal length (cm)', ylabel='petal length (cm)'>"
      ]
     },
     "execution_count": 25,
     "metadata": {},
     "output_type": "execute_result"
    },
    {
     "data": {
      "image/png": "[encoded data removed]",
      "text/plain": [
       "<Figure size 640x480 with 1 Axes>"
      ]
     },
     "metadata": {},
     "output_type": "display_data"
    }
   ],
   "source": [
    "sns.scatterplot(x=df['sepal length (cm)'], y=df['petal length (cm)'], hue=df['target'])"
   ]
  },
  {
   "cell_type": "markdown",
   "id": "5ed038c9-c1de-4bc5-8e2e-2c93cdacddd2",
   "metadata": {},
   "source": [
    "~ Try different values of the regularisation parameter C and see how it affects the performance of\n",
    "the model."
   ]
  },
  {
   "cell_type": "code",
   "execution_count": 49,
   "id": "b2ec4c65-231c-4324-8480-6c6e43a2b476",
   "metadata": {},
   "outputs": [],
   "source": [
    "param_grid={\n",
    "    'C':[0.1, 1, 10, 100]\n",
    "}"
   ]
  },
  {
   "cell_type": "code",
   "execution_count": 50,
   "id": "bf41ae6b-6ea6-48d3-a6d1-f580fd7ac84a",
   "metadata": {},
   "outputs": [],
   "source": [
    "from sklearn.model_selection import GridSearchCV"
   ]
  },
  {
   "cell_type": "code",
   "execution_count": 51,
   "id": "459ef251-2d74-4345-a967-785d82fbcd13",
   "metadata": {},
   "outputs": [],
   "source": [
    "grid=GridSearchCV(obj_svm, param_grid=param_grid, cv=2, verbose=3.0)"
   ]
  },
  {
   "cell_type": "code",
   "execution_count": 52,
   "id": "feedaae4-15bd-4277-99ac-53fd1f4853a3",
   "metadata": {},
   "outputs": [
    {
     "name": "stdout",
     "output_type": "stream",
     "text": [
      "Fitting 2 folds for each of 4 candidates, totalling 8 fits\n",
      "[CV 1/2] END .............................C=0.1;, score=0.900 total time=   0.0s\n",
      "[CV 2/2] END .............................C=0.1;, score=0.960 total time=   0.0s\n",
      "[CV 1/2] END ...............................C=1;, score=0.960 total time=   0.0s\n",
      "[CV 2/2] END ...............................C=1;, score=0.980 total time=   0.0s\n",
      "[CV 1/2] END ..............................C=10;, score=0.920 total time=   0.0s\n",
      "[CV 2/2] END ..............................C=10;, score=0.980 total time=   0.0s\n",
      "[CV 1/2] END .............................C=100;, score=0.940 total time=   0.0s\n",
      "[CV 2/2] END .............................C=100;, score=1.000 total time=   0.0s\n"
     ]
    },
    {
     "data": {
      "text/html": [
       "<style>#sk-container-id-2 {color: black;background-color: white;}#sk-container-id-2 pre{padding: 0;}#sk-container-id-2 div.sk-toggleable {background-color: white;}#sk-container-id-2 label.sk-toggleable__label {cursor: pointer;display: block;width: 100%;margin-bottom: 0;padding: 0.3em;box-sizing: border-box;text-align: center;}#sk-container-id-2 label.sk-toggleable__label-arrow:before {content: \"▸\";float: left;margin-right: 0.25em;color: #696969;}#sk-container-id-2 label.sk-toggleable__label-arrow:hover:before {color: black;}#sk-container-id-2 div.sk-estimator:hover label.sk-toggleable__label-arrow:before {color: black;}#sk-container-id-2 div.sk-toggleable__content {max-height: 0;max-width: 0;overflow: hidden;text-align: left;background-color: #f0f8ff;}#sk-container-id-2 div.sk-toggleable__content pre {margin: 0.2em;color: black;border-radius: 0.25em;background-color: #f0f8ff;}#sk-container-id-2 input.sk-toggleable__control:checked~div.sk-toggleable__content {max-height: 200px;max-width: 100%;overflow: auto;}#sk-container-id-2 input.sk-toggleable__control:checked~label.sk-toggleable__label-arrow:before {content: \"▾\";}#sk-container-id-2 div.sk-estimator input.sk-toggleable__control:checked~label.sk-toggleable__label {background-color: #d4ebff;}#sk-container-id-2 div.sk-label input.sk-toggleable__control:checked~label.sk-toggleable__label {background-color: #d4ebff;}#sk-container-id-2 input.sk-hidden--visually {border: 0;clip: rect(1px 1px 1px 1px);clip: rect(1px, 1px, 1px, 1px);height: 1px;margin: -1px;overflow: hidden;padding: 0;position: absolute;width: 1px;}#sk-container-id-2 div.sk-estimator {font-family: monospace;background-color: #f0f8ff;border: 1px dotted black;border-radius: 0.25em;box-sizing: border-box;margin-bottom: 0.5em;}#sk-container-id-2 div.sk-estimator:hover {background-color: #d4ebff;}#sk-container-id-2 div.sk-parallel-item::after {content: \"\";width: 100%;border-bottom: 1px solid gray;flex-grow: 1;}#sk-container-id-2 div.sk-label:hover label.sk-toggleable__label {background-color: #d4ebff;}#sk-container-id-2 div.sk-serial::before {content: \"\";position: absolute;border-left: 1px solid gray;box-sizing: border-box;top: 0;bottom: 0;left: 50%;z-index: 0;}#sk-container-id-2 div.sk-serial {display: flex;flex-direction: column;align-items: center;background-color: white;padding-right: 0.2em;padding-left: 0.2em;position: relative;}#sk-container-id-2 div.sk-item {position: relative;z-index: 1;}#sk-container-id-2 div.sk-parallel {display: flex;align-items: stretch;justify-content: center;background-color: white;position: relative;}#sk-container-id-2 div.sk-item::before, #sk-container-id-2 div.sk-parallel-item::before {content: \"\";position: absolute;border-left: 1px solid gray;box-sizing: border-box;top: 0;bottom: 0;left: 50%;z-index: -1;}#sk-container-id-2 div.sk-parallel-item {display: flex;flex-direction: column;z-index: 1;position: relative;background-color: white;}#sk-container-id-2 div.sk-parallel-item:first-child::after {align-self: flex-end;width: 50%;}#sk-container-id-2 div.sk-parallel-item:last-child::after {align-self: flex-start;width: 50%;}#sk-container-id-2 div.sk-parallel-item:only-child::after {width: 0;}#sk-container-id-2 div.sk-dashed-wrapped {border: 1px dashed gray;margin: 0 0.4em 0.5em 0.4em;box-sizing: border-box;padding-bottom: 0.4em;background-color: white;}#sk-container-id-2 div.sk-label label {font-family: monospace;font-weight: bold;display: inline-block;line-height: 1.2em;}#sk-container-id-2 div.sk-label-container {text-align: center;}#sk-container-id-2 div.sk-container {/* jupyter's `normalize.less` sets `[hidden] { display: none; }` but bootstrap.min.css set `[hidden] { display: none !important; }` so we also need the `!important` here to be able to override the default hidden behavior on the sphinx rendered scikit-learn.org. See: https://github.com/scikit-learn/scikit-learn/issues/21755 */display: inline-block !important;position: relative;}#sk-container-id-2 div.sk-text-repr-fallback {display: none;}</style><div id=\"sk-container-id-2\" class=\"sk-top-container\"><div class=\"sk-text-repr-fallback\"><pre>GridSearchCV(cv=2, estimator=SVC(kernel=&#x27;linear&#x27;),\n",
       "             param_grid={&#x27;C&#x27;: [0.1, 1, 10, 100]}, verbose=3.0)</pre><b>In a Jupyter environment, please rerun this cell to show the HTML representation or trust the notebook. <br />On GitHub, the HTML representation is unable to render, please try loading this page with nbviewer.org.</b></div><div class=\"sk-container\" hidden><div class=\"sk-item sk-dashed-wrapped\"><div class=\"sk-label-container\"><div class=\"sk-label sk-toggleable\"><input class=\"sk-toggleable__control sk-hidden--visually\" id=\"sk-estimator-id-2\" type=\"checkbox\" ><label for=\"sk-estimator-id-2\" class=\"sk-toggleable__label sk-toggleable__label-arrow\">GridSearchCV</label><div class=\"sk-toggleable__content\"><pre>GridSearchCV(cv=2, estimator=SVC(kernel=&#x27;linear&#x27;),\n",
       "             param_grid={&#x27;C&#x27;: [0.1, 1, 10, 100]}, verbose=3.0)</pre></div></div></div><div class=\"sk-parallel\"><div class=\"sk-parallel-item\"><div class=\"sk-item\"><div class=\"sk-label-container\"><div class=\"sk-label sk-toggleable\"><input class=\"sk-toggleable__control sk-hidden--visually\" id=\"sk-estimator-id-3\" type=\"checkbox\" ><label for=\"sk-estimator-id-3\" class=\"sk-toggleable__label sk-toggleable__label-arrow\">estimator: SVC</label><div class=\"sk-toggleable__content\"><pre>SVC(kernel=&#x27;linear&#x27;)</pre></div></div></div><div class=\"sk-serial\"><div class=\"sk-item\"><div class=\"sk-estimator sk-toggleable\"><input class=\"sk-toggleable__control sk-hidden--visually\" id=\"sk-estimator-id-4\" type=\"checkbox\" ><label for=\"sk-estimator-id-4\" class=\"sk-toggleable__label sk-toggleable__label-arrow\">SVC</label><div class=\"sk-toggleable__content\"><pre>SVC(kernel=&#x27;linear&#x27;)</pre></div></div></div></div></div></div></div></div></div></div>"
      ],
      "text/plain": [
       "GridSearchCV(cv=2, estimator=SVC(kernel='linear'),\n",
       "             param_grid={'C': [0.1, 1, 10, 100]}, verbose=3.0)"
      ]
     },
     "execution_count": 52,
     "metadata": {},
     "output_type": "execute_result"
    }
   ],
   "source": [
    "grid.fit(x_train, y_train)"
   ]
  },
  {
   "cell_type": "code",
   "execution_count": 53,
   "id": "8386fd91-6a17-4f6a-bf3d-64a52f0beb7b",
   "metadata": {},
   "outputs": [
    {
     "data": {
      "text/plain": [
       "{'C': 1}"
      ]
     },
     "execution_count": 53,
     "metadata": {},
     "output_type": "execute_result"
    }
   ],
   "source": [
    "grid.best_params_"
   ]
  },
  {
   "cell_type": "code",
   "execution_count": 54,
   "id": "2146896a-b4ea-425d-8fad-d04bd3e71249",
   "metadata": {},
   "outputs": [],
   "source": [
    "y_pre=grid.predict(x_test)"
   ]
  },
  {
   "cell_type": "code",
   "execution_count": 55,
   "id": "060aa51d-6568-4e8a-9241-99c430db9de6",
   "metadata": {},
   "outputs": [
    {
     "data": {
      "text/plain": [
       "array([1, 0, 2, 1, 1, 0, 1, 2, 1, 1, 2, 0, 0, 0, 0, 1, 2, 1, 1, 2, 0, 2,\n",
       "       0, 2, 2, 2, 2, 2, 0, 0, 0, 0, 1, 0, 0, 2, 1, 0, 0, 0, 2, 1, 1, 0,\n",
       "       0, 1, 2, 2, 1, 2])"
      ]
     },
     "execution_count": 55,
     "metadata": {},
     "output_type": "execute_result"
    }
   ],
   "source": [
    "y_pre"
   ]
  },
  {
   "cell_type": "code",
   "execution_count": 56,
   "id": "69700aa5-635d-4039-a6fb-08770f309e6b",
   "metadata": {},
   "outputs": [
    {
     "name": "stdout",
     "output_type": "stream",
     "text": [
      "1.0\n",
      "[[19  0  0]\n",
      " [ 0 15  0]\n",
      " [ 0  0 16]]\n",
      "              precision    recall  f1-score   support\n",
      "\n",
      "           0       1.00      1.00      1.00        19\n",
      "           1       1.00      1.00      1.00        15\n",
      "           2       1.00      1.00      1.00        16\n",
      "\n",
      "    accuracy                           1.00        50\n",
      "   macro avg       1.00      1.00      1.00        50\n",
      "weighted avg       1.00      1.00      1.00        50\n",
      "\n"
     ]
    }
   ],
   "source": [
    "print(accuracy_score(y_test, y_pre))\n",
    "print(confusion_matrix(y_test, y_pre))\n",
    "print(classification_report(y_test, y_pre))"
   ]
  },
  {
   "cell_type": "code",
   "execution_count": null,
   "id": "9a135982-5c6c-4315-a0fc-70f3412d6328",
   "metadata": {},
   "outputs": [],
   "source": []
  }
 ],
 "metadata": {
  "kernelspec": {
   "display_name": "Python 3 (ipykernel)",
   "language": "python",
   "name": "python3"
  },
  "language_info": {
   "codemirror_mode": {
    "name": "ipython",
    "version": 3
   },
   "file_extension": ".py",
   "mimetype": "text/x-python",
   "name": "python",
   "nbconvert_exporter": "python",
   "pygments_lexer": "ipython3",
   "version": "3.10.8"
  }
 },
 "nbformat": 4,
 "nbformat_minor": 5
}
