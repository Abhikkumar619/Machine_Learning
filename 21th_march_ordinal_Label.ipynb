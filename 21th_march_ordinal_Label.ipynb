{
 "cells": [
  {
   "cell_type": "markdown",
   "id": "1b63d1a1-114e-462f-83a2-37a233ba849d",
   "metadata": {},
   "source": [
    "Q1. What is the difference between Ordinal Encoding and Label Encoding? Provide an example of when you\n",
    "might choose one over the other."
   ]
  },
  {
   "cell_type": "code",
   "execution_count": null,
   "id": "fb81550e-74b5-42c1-a418-b62a34d955be",
   "metadata": {},
   "outputs": [],
   "source": [
    "\"\"\"\n",
    "Label_Encoding: \n",
    "-t is technique for handling categorical variables, In this technique each label is assigned a unique integer based on the \n",
    "abphabetical ordering.\n",
    "\n",
    "- Labels are not categorical into ranked.\n",
    "\n",
    "Example: color, blood group.\n",
    "\n",
    "Ordinal_Encoding: \n",
    "-rdinal Encoding is a technique to transform categorical features into a numerical formate. In ordinal encoding labels are \n",
    "translated to another. \n",
    "\n",
    "- All the lebels are ranked by assigning number.\n",
    "\n",
    "Ex: if one features contains: low, medium, high.\n",
    "\"\"\""
   ]
  },
  {
   "cell_type": "markdown",
   "id": "8d677229-e122-4ba7-a4a9-f03f7b4abc15",
   "metadata": {},
   "source": [
    "Q2. Explain how Target Guided Ordinal Encoding works and provide an example of when you might use it in\n",
    "a machine learning project."
   ]
  },
  {
   "cell_type": "code",
   "execution_count": null,
   "id": "0fae3cf9-6646-4eb8-a391-ee04428a12c5",
   "metadata": {},
   "outputs": [],
   "source": [
    "\"\"\"\n",
    "It is technique used to encode categorical variables based on their relationship with target variable. This encoding\n",
    "technique is useful when we have a categorical variable with large number of categorical, and we want to use this variabel \n",
    "as a features in out machine learning model.\n",
    "In target guided ordinal categorical, we replace each category variable with a numberical value based on the mean or median \n",
    "of the target variable for that category. this creates a monotonic relationship between the categorical variable and the target\n",
    "variable, which can improve the predicative power of our model.\n",
    "\"\"\""
   ]
  },
  {
   "cell_type": "markdown",
   "id": "96f7de9a-62f8-45fc-85fa-67294400637c",
   "metadata": {},
   "source": [
    "Q3. Define covariance and explain why it is important in statistical analysis. How is covariance calculated?"
   ]
  },
  {
   "cell_type": "code",
   "execution_count": null,
   "id": "f3588088-4abe-4d5d-a2f3-a82fc82f3325",
   "metadata": {},
   "outputs": [],
   "source": [
    "\"\"\"\n",
    "Covariance is a systematic relationship between two random variables in which a change in the other reflects a change in ohe variable.\n",
    "\n",
    "It is important in statistical analysis because it used to assess the strength and direction of the \n",
    "relationship between two variables. if two variables have positive covariance. it means they tend to move together.\n",
    "if negative then it means move in opposite direction. by doing this we can easily identifying patterns in data, making predications about\n",
    "future outcomes."
   ]
  },
  {
   "cell_type": "markdown",
   "id": "362a2b2d-a933-4146-a2d2-65d9a8e8b20f",
   "metadata": {},
   "source": [
    "Q4. For a dataset with the following categorical variables: Color (red, green, blue), Size (small, medium,\n",
    "large), and Material (wood, metal, plastic), perform label encoding using Python's scikit-learn library.\n",
    "Show your code and explain the output."
   ]
  },
  {
   "cell_type": "code",
   "execution_count": 1,
   "id": "2b4ec464-d1c6-4f04-bed7-846deeb61c57",
   "metadata": {},
   "outputs": [],
   "source": [
    "import pandas as pd\n",
    "from sklearn.preprocessing import LabelEncoder"
   ]
  },
  {
   "cell_type": "code",
   "execution_count": 2,
   "id": "6dff6416-d2c6-41c4-a5ef-2b2760719804",
   "metadata": {},
   "outputs": [],
   "source": [
    "obj_label=LabelEncoder()"
   ]
  },
  {
   "cell_type": "code",
   "execution_count": 3,
   "id": "1575c572-7740-4eed-991f-8c599f6d7275",
   "metadata": {},
   "outputs": [],
   "source": [
    "df=pd.DataFrame({\n",
    "    'color': ['red','green','blue']\n",
    "})"
   ]
  },
  {
   "cell_type": "code",
   "execution_count": 6,
   "id": "5b7cac9b-aaf1-40c6-913c-58bbeafaa51b",
   "metadata": {},
   "outputs": [
    {
     "name": "stderr",
     "output_type": "stream",
     "text": [
      "/opt/conda/lib/python3.10/site-packages/sklearn/preprocessing/_label.py:116: DataConversionWarning: A column-vector y was passed when a 1d array was expected. Please change the shape of y to (n_samples, ), for example using ravel().\n",
      "  y = column_or_1d(y, warn=True)\n"
     ]
    }
   ],
   "source": [
    "color_label=obj_label.fit_transform(df[['color']])"
   ]
  },
  {
   "cell_type": "code",
   "execution_count": 7,
   "id": "55dd59ff-9851-43fb-82cc-fa4fedf4e508",
   "metadata": {},
   "outputs": [
    {
     "data": {
      "text/plain": [
       "array([2, 1, 0])"
      ]
     },
     "execution_count": 7,
     "metadata": {},
     "output_type": "execute_result"
    }
   ],
   "source": [
    "color_label"
   ]
  },
  {
   "cell_type": "code",
   "execution_count": 8,
   "id": "835b1c81-bfeb-4709-81db-0c4bafc7e96d",
   "metadata": {},
   "outputs": [],
   "source": [
    "df2=pd.DataFrame({\n",
    "    'size':['small', 'medium', 'large']\n",
    "})"
   ]
  },
  {
   "cell_type": "code",
   "execution_count": 9,
   "id": "e0f0c5e2-cb07-4ac9-b8d3-c790898e2448",
   "metadata": {},
   "outputs": [
    {
     "data": {
      "text/html": [
       "<div>\n",
       "<style scoped>\n",
       "    .dataframe tbody tr th:only-of-type {\n",
       "        vertical-align: middle;\n",
       "    }\n",
       "\n",
       "    .dataframe tbody tr th {\n",
       "        vertical-align: top;\n",
       "    }\n",
       "\n",
       "    .dataframe thead th {\n",
       "        text-align: right;\n",
       "    }\n",
       "</style>\n",
       "<table border=\"1\" class=\"dataframe\">\n",
       "  <thead>\n",
       "    <tr style=\"text-align: right;\">\n",
       "      <th></th>\n",
       "      <th>size</th>\n",
       "    </tr>\n",
       "  </thead>\n",
       "  <tbody>\n",
       "    <tr>\n",
       "      <th>0</th>\n",
       "      <td>small</td>\n",
       "    </tr>\n",
       "    <tr>\n",
       "      <th>1</th>\n",
       "      <td>medium</td>\n",
       "    </tr>\n",
       "    <tr>\n",
       "      <th>2</th>\n",
       "      <td>large</td>\n",
       "    </tr>\n",
       "  </tbody>\n",
       "</table>\n",
       "</div>"
      ],
      "text/plain": [
       "     size\n",
       "0   small\n",
       "1  medium\n",
       "2   large"
      ]
     },
     "execution_count": 9,
     "metadata": {},
     "output_type": "execute_result"
    }
   ],
   "source": [
    "df2"
   ]
  },
  {
   "cell_type": "code",
   "execution_count": 14,
   "id": "6a168882-3d3a-4b71-968d-d66515f5b8f2",
   "metadata": {},
   "outputs": [
    {
     "name": "stderr",
     "output_type": "stream",
     "text": [
      "/opt/conda/lib/python3.10/site-packages/sklearn/preprocessing/_label.py:134: DataConversionWarning: A column-vector y was passed when a 1d array was expected. Please change the shape of y to (n_samples, ), for example using ravel().\n",
      "  y = column_or_1d(y, dtype=self.classes_.dtype, warn=True)\n"
     ]
    }
   ],
   "source": [
    "size_label=obj_label.transform(df2[['size']])"
   ]
  },
  {
   "cell_type": "code",
   "execution_count": 15,
   "id": "ac2da0f9-8f72-4f71-b8e3-6a7a6f6616dc",
   "metadata": {},
   "outputs": [
    {
     "data": {
      "text/plain": [
       "array([2, 1, 0])"
      ]
     },
     "execution_count": 15,
     "metadata": {},
     "output_type": "execute_result"
    }
   ],
   "source": [
    "size_label"
   ]
  },
  {
   "cell_type": "code",
   "execution_count": 20,
   "id": "c11401c7-e4bc-4406-91d6-0ef0fec6a673",
   "metadata": {},
   "outputs": [],
   "source": [
    "df3=pd.DataFrame({\n",
    "    'material':['wood','metal','plastic']\n",
    "})"
   ]
  },
  {
   "cell_type": "code",
   "execution_count": 22,
   "id": "100d8669-4b84-475b-9c06-fc5f6b6a153b",
   "metadata": {},
   "outputs": [
    {
     "data": {
      "text/html": [
       "<div>\n",
       "<style scoped>\n",
       "    .dataframe tbody tr th:only-of-type {\n",
       "        vertical-align: middle;\n",
       "    }\n",
       "\n",
       "    .dataframe tbody tr th {\n",
       "        vertical-align: top;\n",
       "    }\n",
       "\n",
       "    .dataframe thead th {\n",
       "        text-align: right;\n",
       "    }\n",
       "</style>\n",
       "<table border=\"1\" class=\"dataframe\">\n",
       "  <thead>\n",
       "    <tr style=\"text-align: right;\">\n",
       "      <th></th>\n",
       "      <th>material</th>\n",
       "    </tr>\n",
       "  </thead>\n",
       "  <tbody>\n",
       "    <tr>\n",
       "      <th>0</th>\n",
       "      <td>wood</td>\n",
       "    </tr>\n",
       "    <tr>\n",
       "      <th>1</th>\n",
       "      <td>metal</td>\n",
       "    </tr>\n",
       "    <tr>\n",
       "      <th>2</th>\n",
       "      <td>plastic</td>\n",
       "    </tr>\n",
       "  </tbody>\n",
       "</table>\n",
       "</div>"
      ],
      "text/plain": [
       "  material\n",
       "0     wood\n",
       "1    metal\n",
       "2  plastic"
      ]
     },
     "execution_count": 22,
     "metadata": {},
     "output_type": "execute_result"
    }
   ],
   "source": [
    "df3"
   ]
  },
  {
   "cell_type": "code",
   "execution_count": 23,
   "id": "0685a9ce-fea7-43e5-95ad-1b155a470aee",
   "metadata": {},
   "outputs": [
    {
     "name": "stderr",
     "output_type": "stream",
     "text": [
      "/opt/conda/lib/python3.10/site-packages/sklearn/preprocessing/_label.py:116: DataConversionWarning: A column-vector y was passed when a 1d array was expected. Please change the shape of y to (n_samples, ), for example using ravel().\n",
      "  y = column_or_1d(y, warn=True)\n"
     ]
    }
   ],
   "source": [
    "material_label=obj_label.fit_transform(df3[['material']])"
   ]
  },
  {
   "cell_type": "code",
   "execution_count": 24,
   "id": "3e97ecd6-b45f-4ea4-ba38-fefde79fe94a",
   "metadata": {},
   "outputs": [
    {
     "data": {
      "text/plain": [
       "array([2, 0, 1])"
      ]
     },
     "execution_count": 24,
     "metadata": {},
     "output_type": "execute_result"
    }
   ],
   "source": [
    "material_label"
   ]
  },
  {
   "cell_type": "markdown",
   "id": "035e2492-1466-4831-9750-be19a324b398",
   "metadata": {},
   "source": [
    "Q5. Calculate the covariance matrix for the following variables in a dataset: Age, Income, and Education\n",
    "level. Interpret the results."
   ]
  },
  {
   "cell_type": "code",
   "execution_count": null,
   "id": "f3805305-f68c-4145-a8cc-3350dff69327",
   "metadata": {},
   "outputs": [],
   "source": [
    "\"\"\"\n",
    "The diagonal elements of the covariance matrix are the variances of each variable.\n",
    "For example, var(Age) is the variance of the Age variable, which measures how much the \n",
    "Age values in the dataset vary from their mean value. Similarly, var(Income) and var(Education)\n",
    "are the variances of the Income and Education variables, respectively.\n",
    "\n",
    "The off-diagonal elements of the covariance matrix are the covariances between pairs of variables.\n",
    "For example, cov(Age,Income) is the covariance between the Age and Income variables, which measures \n",
    "how much the Age and Income values in the dataset vary together. A positive covariance indicates that\n",
    "when one variable is above its mean value, the other variable tends to be above its mean value as well.\n",
    "A negative covariance indicates that when one variable is above its mean value, the other variable tends\n",
    "to be below its mean value.\n",
    "\n",
    "Overall, the covariance matrix provides information about how the three variables are related to each\n",
    "other in the dataset. However, it does not provide information about the strength or direction of the\n",
    "relationship, which can be measured by other statistics such as the correlation coefficient."
   ]
  },
  {
   "cell_type": "markdown",
   "id": "8128e4c6-5140-4779-a4ba-08348d9323c4",
   "metadata": {},
   "source": [
    "Q6. You are working on a machine learning project with a dataset containing several categorical\n",
    "variables, including \"Gender\" (Male/Female), \"Education Level\" (High School/Bachelor's/Master's/PhD),\n",
    "and \"Employment Status\" (Unemployed/Part-Time/Full-Time). Which encoding method would you use for\n",
    "each variable, and why?"
   ]
  },
  {
   "cell_type": "code",
   "execution_count": null,
   "id": "fb8cd61c-fbad-4b0c-b77b-c70d3052bb73",
   "metadata": {},
   "outputs": [],
   "source": [
    "\"\"\"\n",
    "Gender:\n",
    "For the categorical variables Gender, we use one hot encoding because in one hot encoding variable are\n",
    "encoded in binary value which indicates the presence and absence of value in the gender categories \n",
    "we have total male and female 1 indicate the male and o indicates the female. which help machine learning \n",
    "easily process.\n",
    "\n",
    "Education:\n",
    "In this sceaniro i use Ordinal encoding bacause Education level can be ranked, and to encoding high school ranked \n",
    "as 1 and bachelor's as 2 , Masters's as 3 and Phd as 4. \n",
    "\n",
    "Employment status: \n",
    "Int this sceaniro i use Lavel encoding so that variables are encode in a unique based on alpphabetical\n",
    "ordering."
   ]
  },
  {
   "cell_type": "markdown",
   "id": "14753017-ea9e-4841-919e-6a5099489033",
   "metadata": {},
   "source": [
    "Q7. You are analyzing a dataset with two continuous variables, \"Temperature\" and \"Humidity\", and two\n",
    "categorical variables, \"Weather Condition\" (Sunny/Cloudy/Rainy) and \"Wind Direction\" (North/South/\n",
    "East/West). Calculate the covariance between each pair of variables and interpret the results."
   ]
  },
  {
   "cell_type": "code",
   "execution_count": null,
   "id": "0d93f71c-655d-4fba-b976-7b8d47ae3b24",
   "metadata": {},
   "outputs": [],
   "source": []
  }
 ],
 "metadata": {
  "kernelspec": {
   "display_name": "Python 3 (ipykernel)",
   "language": "python",
   "name": "python3"
  },
  "language_info": {
   "codemirror_mode": {
    "name": "ipython",
    "version": 3
   },
   "file_extension": ".py",
   "mimetype": "text/x-python",
   "name": "python",
   "nbconvert_exporter": "python",
   "pygments_lexer": "ipython3",
   "version": "3.10.8"
  }
 },
 "nbformat": 4,
 "nbformat_minor": 5
}
