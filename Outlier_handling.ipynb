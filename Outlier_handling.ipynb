{
 "cells": [
  {
   "cell_type": "code",
   "execution_count": 68,
   "id": "8a9af273-e0c8-4334-b2f0-d244e3104989",
   "metadata": {},
   "outputs": [],
   "source": [
    "import numpy as np"
   ]
  },
  {
   "cell_type": "code",
   "execution_count": 69,
   "id": "2bd66ba4-299c-4abc-8dd8-047d672bf69d",
   "metadata": {},
   "outputs": [],
   "source": [
    "list_marks=[45,32,56,75,89,54,32,89,90,87,67,54,45,98,99,67,74,1000,1100]"
   ]
  },
  {
   "cell_type": "code",
   "execution_count": 70,
   "id": "2f2eda06-4971-4003-b5b2-919b49b89661",
   "metadata": {},
   "outputs": [],
   "source": [
    "## (lower Fence <----> higher fence)\n",
    "Q1=np.percentile(list_marks, [25])"
   ]
  },
  {
   "cell_type": "code",
   "execution_count": 71,
   "id": "fc54bb11-52d8-4232-8072-1c86efdbeb2b",
   "metadata": {},
   "outputs": [
    {
     "data": {
      "text/plain": [
       "array([54.])"
      ]
     },
     "execution_count": 71,
     "metadata": {},
     "output_type": "execute_result"
    }
   ],
   "source": [
    "Q1"
   ]
  },
  {
   "cell_type": "code",
   "execution_count": 72,
   "id": "5855fefa-5736-445c-acf8-96e779aecf5f",
   "metadata": {},
   "outputs": [],
   "source": [
    "minimum, Q1, Q2, Q3, maximum=np.quantile(list_marks, [0,0.25,0.50, 0.75, 1.0])"
   ]
  },
  {
   "cell_type": "code",
   "execution_count": 73,
   "id": "918810d4-076b-4cda-b6d6-f166f05cccb4",
   "metadata": {},
   "outputs": [
    {
     "data": {
      "text/plain": [
       "1100.0"
      ]
     },
     "execution_count": 73,
     "metadata": {},
     "output_type": "execute_result"
    }
   ],
   "source": [
    "maximum"
   ]
  },
  {
   "cell_type": "code",
   "execution_count": 74,
   "id": "8ea6a44d-a2be-4576-81d5-4335c9b6b4c8",
   "metadata": {},
   "outputs": [
    {
     "data": {
      "text/plain": [
       "54.0"
      ]
     },
     "execution_count": 74,
     "metadata": {},
     "output_type": "execute_result"
    }
   ],
   "source": [
    "Q1"
   ]
  },
  {
   "cell_type": "code",
   "execution_count": 75,
   "id": "a5c97b5e-2528-45c8-a856-c5891b142aec",
   "metadata": {},
   "outputs": [
    {
     "data": {
      "text/plain": [
       "74.0"
      ]
     },
     "execution_count": 75,
     "metadata": {},
     "output_type": "execute_result"
    }
   ],
   "source": [
    "Q2"
   ]
  },
  {
   "cell_type": "code",
   "execution_count": 76,
   "id": "8bff3ace-e335-4a65-954c-48608ce53987",
   "metadata": {},
   "outputs": [
    {
     "data": {
      "text/plain": [
       "89.5"
      ]
     },
     "execution_count": 76,
     "metadata": {},
     "output_type": "execute_result"
    }
   ],
   "source": [
    "Q3"
   ]
  },
  {
   "cell_type": "code",
   "execution_count": 77,
   "id": "ce043ced-d2ef-4a43-b20f-2b0d347df2f5",
   "metadata": {},
   "outputs": [
    {
     "data": {
      "text/plain": [
       "1100.0"
      ]
     },
     "execution_count": 77,
     "metadata": {},
     "output_type": "execute_result"
    }
   ],
   "source": [
    "maximum"
   ]
  },
  {
   "cell_type": "code",
   "execution_count": 78,
   "id": "75c669aa-8f64-4674-badf-2b8e6cc6f6e1",
   "metadata": {},
   "outputs": [
    {
     "name": "stdout",
     "output_type": "stream",
     "text": [
      "35.5\n"
     ]
    }
   ],
   "source": [
    "#inter quatile range.\n",
    "IQR=Q3-Q1\n",
    "print(IQR)"
   ]
  },
  {
   "cell_type": "code",
   "execution_count": 83,
   "id": "369555fb-754b-4310-bac8-b708ac201c4a",
   "metadata": {},
   "outputs": [],
   "source": [
    "lower_fance=Q1-1.5*(IQR)\n",
    "higer_fance=Q3+1.5*(IQR)"
   ]
  },
  {
   "cell_type": "code",
   "execution_count": 84,
   "id": "79a277b2-c242-4993-9c26-ae9f3e1bf523",
   "metadata": {},
   "outputs": [
    {
     "data": {
      "text/plain": [
       "0.75"
      ]
     },
     "execution_count": 84,
     "metadata": {},
     "output_type": "execute_result"
    }
   ],
   "source": [
    "lower_fance"
   ]
  },
  {
   "cell_type": "code",
   "execution_count": 85,
   "id": "dd25bee9-a8e0-457f-90a6-39633ddcc881",
   "metadata": {},
   "outputs": [
    {
     "data": {
      "text/plain": [
       "142.75"
      ]
     },
     "execution_count": 85,
     "metadata": {},
     "output_type": "execute_result"
    }
   ],
   "source": [
    "higer_fance"
   ]
  },
  {
   "cell_type": "code",
   "execution_count": null,
   "id": "62909cad-0596-4e99-bf89-1416a29c5ea9",
   "metadata": {},
   "outputs": [],
   "source": []
  },
  {
   "cell_type": "code",
   "execution_count": 87,
   "id": "edebec7b-10f1-4c98-8efa-87b8c6629d19",
   "metadata": {},
   "outputs": [
    {
     "name": "stdout",
     "output_type": "stream",
     "text": [
      "This is not outlier\n",
      "This is not outlier\n",
      "This is not outlier\n",
      "This is not outlier\n",
      "This is not outlier\n",
      "This is not outlier\n",
      "This is not outlier\n",
      "This is not outlier\n",
      "This is not outlier\n",
      "This is not outlier\n",
      "This is not outlier\n",
      "This is not outlier\n",
      "This is not outlier\n",
      "This is not outlier\n",
      "This is not outlier\n",
      "This is not outlier\n",
      "This is not outlier\n"
     ]
    }
   ],
   "source": [
    "outlier=[]\n",
    "for i in list_marks:\n",
    "    if i>=0.75 and i<=142.75:\n",
    "        print('This is not outlier')\n",
    "    else: \n",
    "        outlier.append(i)        "
   ]
  },
  {
   "cell_type": "code",
   "execution_count": 88,
   "id": "2ad83580-9cd4-4c9d-bc68-896836000fc6",
   "metadata": {},
   "outputs": [
    {
     "data": {
      "text/plain": [
       "[1000, 1100]"
      ]
     },
     "execution_count": 88,
     "metadata": {},
     "output_type": "execute_result"
    }
   ],
   "source": [
    "outlier"
   ]
  },
  {
   "cell_type": "code",
   "execution_count": 89,
   "id": "47902546-713d-4081-b9f6-e6b8c36081c7",
   "metadata": {},
   "outputs": [],
   "source": [
    "import seaborn as sns"
   ]
  },
  {
   "cell_type": "code",
   "execution_count": 90,
   "id": "953053f3-a3a7-485f-b79f-4e4499bbb43e",
   "metadata": {},
   "outputs": [
    {
     "data": {
      "text/plain": [
       "<AxesSubplot: >"
      ]
     },
     "execution_count": 90,
     "metadata": {},
     "output_type": "execute_result"
    },
    {
     "data": {
      "image/png": "[encoded data removed]",
      "text/plain": [
       "<Figure size 640x480 with 1 Axes>"
      ]
     },
     "metadata": {},
     "output_type": "display_data"
    }
   ],
   "source": [
    "sns.boxenplot(list_marks)"
   ]
  },
  {
   "cell_type": "code",
   "execution_count": 91,
   "id": "0cb86b7b-b654-45c1-85cf-003408df0c7e",
   "metadata": {},
   "outputs": [],
   "source": [
    "list_marks1=[45,32,56,75,89,54,32,89,90,87,67,54,45,98,99,67,74]"
   ]
  },
  {
   "cell_type": "code",
   "execution_count": 92,
   "id": "3893907b-860d-408d-bbdd-f3a3759187e5",
   "metadata": {},
   "outputs": [
    {
     "data": {
      "text/plain": [
       "<AxesSubplot: >"
      ]
     },
     "execution_count": 92,
     "metadata": {},
     "output_type": "execute_result"
    },
    {
     "data": {
      "image/png": "[encoded data removed]",
      "text/plain": [
       "<Figure size 640x480 with 1 Axes>"
      ]
     },
     "metadata": {},
     "output_type": "display_data"
    }
   ],
   "source": [
    "sns.boxenplot(list_marks1)"
   ]
  },
  {
   "cell_type": "code",
   "execution_count": null,
   "id": "8eca9816-65b6-4fb0-bdb0-0a930d11b967",
   "metadata": {},
   "outputs": [],
   "source": []
  }
 ],
 "metadata": {
  "kernelspec": {
   "display_name": "Python 3 (ipykernel)",
   "language": "python",
   "name": "python3"
  },
  "language_info": {
   "codemirror_mode": {
    "name": "ipython",
    "version": 3
   },
   "file_extension": ".py",
   "mimetype": "text/x-python",
   "name": "python",
   "nbconvert_exporter": "python",
   "pygments_lexer": "ipython3",
   "version": "3.10.8"
  }
 },
 "nbformat": 4,
 "nbformat_minor": 5
}
