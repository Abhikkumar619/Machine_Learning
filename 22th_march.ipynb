{
 "cells": [
  {
   "cell_type": "markdown",
   "id": "6b055bd2-775a-485f-969e-e388ca58b7e5",
   "metadata": {},
   "source": [
    "1. Pearson correlation ia a measure of the linear relationship between two variables. suppose you have collected data on the amount of time students spend studying for an exam and ther final exam score. calculate the pearson correlation correlation between these two variables and interpret the result. "
   ]
  },
  {
   "cell_type": "code",
   "execution_count": null,
   "id": "fb39a8ce-1752-4309-b4d0-2e2ae37b6fc3",
   "metadata": {},
   "outputs": [],
   "source": [
    "\"\"\"\n",
    "Lets us considerd the time of student spend is denoted as 'x' and fianl score is denoted as 'y' then the Persion correlation\n",
    "is : \n",
    "F(x,y)= cov(x,y)/sqrt(x),squrt(y)\n",
    "\n",
    "The person coefficient ranges form -1 to 1.\n",
    "-The more the value toward +1 the more positive correlated it is x and y.\n",
    "-The more the value toward -1 the more negative correlated it (x,y)\n",
    "\n",
    "In the sceaniro of time student spend studying for an exam and final score is positive it would suggest that there is positive linear relationship between the two variables.\n",
    "as a result as the amount of time spent studing increases, the final exam scores tends to increase as well\n",
    "on ther hand if the person correlation is negative than there is negatice relationship between two variables. \n",
    "means that as time spend studing increases, the final exam score tend to decrease."
   ]
  },
  {
   "cell_type": "markdown",
   "id": "fa4ced71-799c-497c-b398-1584a1273ba4",
   "metadata": {},
   "source": [
    "Q2. Spearman's rank correlation is a measure of the monotonic relationship between two variables.\n",
    "Suppose you have collected data on the amount of sleep individuals get each night and their overall job\n",
    "satisfaction level on a scale of 1 to 10. Calculate the Spearman's rank correlation between these two\n",
    "variables and interpret the result."
   ]
  },
  {
   "cell_type": "code",
   "execution_count": null,
   "id": "1ba89300-2d2b-4454-9263-9b0866cb179f",
   "metadata": {},
   "outputs": [],
   "source": [
    "\"\"\"\n",
    "In spearman's correlation, at first we need to rank the variables, then calculate the difference between ranks for each pair observations.\n",
    "it ranges between -1 to 1 with 0 indicates no monotonic correlation. -1 indicates negative correlation, 1 indicates perfect monotonic correlation.\n",
    "\n",
    "In other word if the correlation is positive, it indicates that is a positive monotonic realtionship between the two variables, which\n",
    "means that as one variable increases, the other \n",
    "variables tends to increases as well, on other hend if the correlation is negative montonic realtionship between variables, which means\n",
    "that as one variable increases the other variables decreases.\n",
    "\n",
    "In the case of given example if the amount of sleep individuals get each night and their overall job satisfaction leval is positive\n",
    "than person get more sleep tend to report high level job satisfaction.\n",
    "in other hands if the amount od sleep individual and theit job satisfaction level is negative than person get less sleep tend to report \n",
    "less satisfied with theitr job.\n",
    "\n",
    "formula: \n",
    "r= cov(R(x),R(Y)) / std(R(x))*std(R(Y))\n"
   ]
  },
  {
   "cell_type": "markdown",
   "id": "f23a63c1-8312-41ff-b319-44ed08f3ba56",
   "metadata": {},
   "source": [
    "Q3. Suppose you are conducting a study to examine the relationship between the number of hours of\n",
    "exercise per week and body mass index (BMI) in a sample of adults. You collected data on both variables\n",
    "for 50 participants. Calculate the Pearson correlation coefficient and the Spearman's rank correlation\n",
    "between these two variables and compare the results."
   ]
  },
  {
   "cell_type": "code",
   "execution_count": null,
   "id": "4f1250e5-acc3-4fcc-a062-51d7a231d184",
   "metadata": {},
   "outputs": [],
   "source": [
    "\"\"\"\n",
    "If the Pearson correlation coefficient is significantly different from zero, it suggests that there is a significant\n",
    "linear relationship between the number of hours of exercise per week and BMI. If the coefficient is positive, it indicates \n",
    "that as the number of hours of exercise per week increases, BMI tends to decrease.\n",
    "If the coefficient is negative, it indicates that as the number of hours of exercise per week increases, BMI tends to increase.\n",
    "\n",
    "If the Spearman's rank correlation coefficient is significantly different from zero, it suggests that there is a significant monotonic\n",
    "relationship between the number of hours of exercise per week and BMI. If the coefficient is positive, it indicates that as the number \n",
    "of hours of exercise per week increases, BMI tends to decrease. \n",
    "If the coefficient is negative, it indicates that as the number of hours of exercise per week increases, BMI tends to increase.\n",
    "\"\"\""
   ]
  },
  {
   "cell_type": "markdown",
   "id": "c307ef8e-3d5f-4ca3-92f4-f71899df4596",
   "metadata": {},
   "source": [
    "Q4. A researcher is interested in examining the relationship between the number of hours individuals\n",
    "spend watching television per day and their level of physical activity. The researcher collected data on\n",
    "both variables from a sample of 50 participants. Calculate the Pearson correlation coefficient between\n",
    "these two variables."
   ]
  },
  {
   "cell_type": "code",
   "execution_count": 40,
   "id": "c1195885-28d3-47b9-8cba-9d72ad8915fe",
   "metadata": {},
   "outputs": [],
   "source": [
    "import numpy as np\n",
    "import pandas as pd"
   ]
  },
  {
   "cell_type": "code",
   "execution_count": 41,
   "id": "93251263-4c03-47df-963c-983609af8ff2",
   "metadata": {},
   "outputs": [],
   "source": [
    "\"Number of hour spending in television\"\n",
    "x=np.linspace(1,8,50)\n",
    "\"number of hour spend in physical activity\"\n",
    "y=np.linspace(1,4, 50)"
   ]
  },
  {
   "cell_type": "code",
   "execution_count": 44,
   "id": "c9f95978-0f12-42f9-ad49-d9bdaa1fabbd",
   "metadata": {},
   "outputs": [],
   "source": [
    "from scipy.stats import pearsonr"
   ]
  },
  {
   "cell_type": "code",
   "execution_count": 45,
   "id": "b5308c63-02e4-4aa3-9291-7fead676f450",
   "metadata": {},
   "outputs": [],
   "source": [
    "correlation_coefficient, p_value = pearsonr(x, y)"
   ]
  },
  {
   "cell_type": "code",
   "execution_count": 46,
   "id": "e9a20116-068d-4aab-bf7e-93a276f9bc82",
   "metadata": {},
   "outputs": [
    {
     "name": "stdout",
     "output_type": "stream",
     "text": [
      "1.0\n"
     ]
    }
   ],
   "source": [
    "print(correlation_coefficient)"
   ]
  },
  {
   "cell_type": "code",
   "execution_count": null,
   "id": "787d2028-f1fc-49c1-9d7f-bf6febfbb448",
   "metadata": {},
   "outputs": [],
   "source": []
  }
 ],
 "metadata": {
  "kernelspec": {
   "display_name": "Python 3 (ipykernel)",
   "language": "python",
   "name": "python3"
  },
  "language_info": {
   "codemirror_mode": {
    "name": "ipython",
    "version": 3
   },
   "file_extension": ".py",
   "mimetype": "text/x-python",
   "name": "python",
   "nbconvert_exporter": "python",
   "pygments_lexer": "ipython3",
   "version": "3.10.8"
  }
 },
 "nbformat": 4,
 "nbformat_minor": 5
}
