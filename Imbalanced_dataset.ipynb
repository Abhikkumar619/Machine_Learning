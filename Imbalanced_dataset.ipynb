{
 "cells": [
  {
   "cell_type": "markdown",
   "id": "34bf29ee-7124-4978-bfc8-83fd21b9bbbf",
   "metadata": {},
   "source": [
    "Imblanced_dataset_handling\n",
    "Upsampling\n",
    "Down sampling"
   ]
  },
  {
   "cell_type": "code",
   "execution_count": 1,
   "id": "74eab5bd-8637-4e52-8e69-e0ac333a7c8e",
   "metadata": {},
   "outputs": [],
   "source": [
    "import pandas as pd\n",
    "import numpy as np"
   ]
  },
  {
   "cell_type": "code",
   "execution_count": 2,
   "id": "3ce33c00-dc5f-4586-943a-b0b7706f9482",
   "metadata": {},
   "outputs": [],
   "source": [
    "#set the random seed for reproducibility\n",
    "np.random.seed(123)\n",
    "\n",
    "#creating dataframe with two classes\n",
    "\n",
    "n_sample=1000\n",
    "class_0_ratio=0.9\n",
    "n_class_0=int(n_sample*class_0_ratio)\n",
    "n_class_1=n_sample-n_class_0"
   ]
  },
  {
   "cell_type": "code",
   "execution_count": 3,
   "id": "44a0e178-e4ba-4aac-88f9-27bb3295655a",
   "metadata": {},
   "outputs": [
    {
     "data": {
      "text/plain": [
       "900"
      ]
     },
     "execution_count": 3,
     "metadata": {},
     "output_type": "execute_result"
    }
   ],
   "source": [
    "n_class_0"
   ]
  },
  {
   "cell_type": "code",
   "execution_count": 4,
   "id": "c4858313-ff29-4117-b690-560f98e2e7ba",
   "metadata": {},
   "outputs": [
    {
     "data": {
      "text/plain": [
       "100"
      ]
     },
     "execution_count": 4,
     "metadata": {},
     "output_type": "execute_result"
    }
   ],
   "source": [
    "n_class_1"
   ]
  },
  {
   "cell_type": "code",
   "execution_count": 12,
   "id": "90f2b4d6-7e41-459e-a1f1-bfb66c20f299",
   "metadata": {},
   "outputs": [],
   "source": [
    "class_0=pd.DataFrame({\n",
    "    'feature_1':np.random.normal(loc=0,scale=1, size=n_class_0 ),\n",
    "    'feature_2':np.random.normal(loc=0,scale=1, size=n_class_0 ),\n",
    "    'target':[0]*n_class_0\n",
    "\n",
    "})"
   ]
  },
  {
   "cell_type": "code",
   "execution_count": 13,
   "id": "efa88b3c-7a6f-4b4e-9c32-b8b6c48f021b",
   "metadata": {},
   "outputs": [
    {
     "data": {
      "text/html": [
       "<div>\n",
       "<style scoped>\n",
       "    .dataframe tbody tr th:only-of-type {\n",
       "        vertical-align: middle;\n",
       "    }\n",
       "\n",
       "    .dataframe tbody tr th {\n",
       "        vertical-align: top;\n",
       "    }\n",
       "\n",
       "    .dataframe thead th {\n",
       "        text-align: right;\n",
       "    }\n",
       "</style>\n",
       "<table border=\"1\" class=\"dataframe\">\n",
       "  <thead>\n",
       "    <tr style=\"text-align: right;\">\n",
       "      <th></th>\n",
       "      <th>feature_1</th>\n",
       "      <th>feature_2</th>\n",
       "      <th>target</th>\n",
       "    </tr>\n",
       "  </thead>\n",
       "  <tbody>\n",
       "    <tr>\n",
       "      <th>0</th>\n",
       "      <td>0.551302</td>\n",
       "      <td>-0.300232</td>\n",
       "      <td>0</td>\n",
       "    </tr>\n",
       "    <tr>\n",
       "      <th>1</th>\n",
       "      <td>0.419589</td>\n",
       "      <td>-0.632261</td>\n",
       "      <td>0</td>\n",
       "    </tr>\n",
       "    <tr>\n",
       "      <th>2</th>\n",
       "      <td>1.815652</td>\n",
       "      <td>-0.204317</td>\n",
       "      <td>0</td>\n",
       "    </tr>\n",
       "    <tr>\n",
       "      <th>3</th>\n",
       "      <td>-0.252750</td>\n",
       "      <td>0.213696</td>\n",
       "      <td>0</td>\n",
       "    </tr>\n",
       "    <tr>\n",
       "      <th>4</th>\n",
       "      <td>-0.292004</td>\n",
       "      <td>1.033878</td>\n",
       "      <td>0</td>\n",
       "    </tr>\n",
       "  </tbody>\n",
       "</table>\n",
       "</div>"
      ],
      "text/plain": [
       "   feature_1  feature_2  target\n",
       "0   0.551302  -0.300232       0\n",
       "1   0.419589  -0.632261       0\n",
       "2   1.815652  -0.204317       0\n",
       "3  -0.252750   0.213696       0\n",
       "4  -0.292004   1.033878       0"
      ]
     },
     "execution_count": 13,
     "metadata": {},
     "output_type": "execute_result"
    }
   ],
   "source": [
    "class_0.head()"
   ]
  },
  {
   "cell_type": "code",
   "execution_count": 14,
   "id": "ce7fc54c-a431-47e4-9524-8cbb84387fb2",
   "metadata": {},
   "outputs": [],
   "source": [
    "class_1=pd.DataFrame({\n",
    "    'feature_1':np.random.normal(loc=0,scale=1, size=n_class_1),\n",
    "    'feature_2':np.random.normal(loc=0,scale=1, size=n_class_1),\n",
    "    'target':[1]*n_class_1\n",
    "\n",
    "})"
   ]
  },
  {
   "cell_type": "code",
   "execution_count": 15,
   "id": "35e8bc54-4669-42e5-b323-a9085ec430ef",
   "metadata": {},
   "outputs": [
    {
     "data": {
      "text/html": [
       "<div>\n",
       "<style scoped>\n",
       "    .dataframe tbody tr th:only-of-type {\n",
       "        vertical-align: middle;\n",
       "    }\n",
       "\n",
       "    .dataframe tbody tr th {\n",
       "        vertical-align: top;\n",
       "    }\n",
       "\n",
       "    .dataframe thead th {\n",
       "        text-align: right;\n",
       "    }\n",
       "</style>\n",
       "<table border=\"1\" class=\"dataframe\">\n",
       "  <thead>\n",
       "    <tr style=\"text-align: right;\">\n",
       "      <th></th>\n",
       "      <th>feature_1</th>\n",
       "      <th>feature_2</th>\n",
       "      <th>target</th>\n",
       "    </tr>\n",
       "  </thead>\n",
       "  <tbody>\n",
       "    <tr>\n",
       "      <th>0</th>\n",
       "      <td>0.667532</td>\n",
       "      <td>-1.298881</td>\n",
       "      <td>1</td>\n",
       "    </tr>\n",
       "    <tr>\n",
       "      <th>1</th>\n",
       "      <td>0.100458</td>\n",
       "      <td>-0.764578</td>\n",
       "      <td>1</td>\n",
       "    </tr>\n",
       "    <tr>\n",
       "      <th>2</th>\n",
       "      <td>-0.012610</td>\n",
       "      <td>-0.822786</td>\n",
       "      <td>1</td>\n",
       "    </tr>\n",
       "    <tr>\n",
       "      <th>3</th>\n",
       "      <td>0.219907</td>\n",
       "      <td>-1.120508</td>\n",
       "      <td>1</td>\n",
       "    </tr>\n",
       "    <tr>\n",
       "      <th>4</th>\n",
       "      <td>0.813623</td>\n",
       "      <td>2.119519</td>\n",
       "      <td>1</td>\n",
       "    </tr>\n",
       "  </tbody>\n",
       "</table>\n",
       "</div>"
      ],
      "text/plain": [
       "   feature_1  feature_2  target\n",
       "0   0.667532  -1.298881       1\n",
       "1   0.100458  -0.764578       1\n",
       "2  -0.012610  -0.822786       1\n",
       "3   0.219907  -1.120508       1\n",
       "4   0.813623   2.119519       1"
      ]
     },
     "execution_count": 15,
     "metadata": {},
     "output_type": "execute_result"
    }
   ],
   "source": [
    "class_1.head()"
   ]
  },
  {
   "cell_type": "code",
   "execution_count": 20,
   "id": "f3504d7b-4860-46fb-96b1-c15bd4a2854d",
   "metadata": {},
   "outputs": [
    {
     "data": {
      "text/plain": [
       "feature_1    100\n",
       "feature_2    100\n",
       "target       100\n",
       "dtype: int64"
      ]
     },
     "execution_count": 20,
     "metadata": {},
     "output_type": "execute_result"
    }
   ],
   "source": [
    "class_1.count()"
   ]
  },
  {
   "cell_type": "code",
   "execution_count": 21,
   "id": "778ba3dd-17f0-46fa-b086-11b2bc92662f",
   "metadata": {},
   "outputs": [],
   "source": [
    "df=pd.concat([class_0, class_1]).reset_index(drop=True)"
   ]
  },
  {
   "cell_type": "code",
   "execution_count": 19,
   "id": "299a5db3-14b2-48f1-9b09-38f1ff37a700",
   "metadata": {},
   "outputs": [
    {
     "data": {
      "text/html": [
       "<div>\n",
       "<style scoped>\n",
       "    .dataframe tbody tr th:only-of-type {\n",
       "        vertical-align: middle;\n",
       "    }\n",
       "\n",
       "    .dataframe tbody tr th {\n",
       "        vertical-align: top;\n",
       "    }\n",
       "\n",
       "    .dataframe thead th {\n",
       "        text-align: right;\n",
       "    }\n",
       "</style>\n",
       "<table border=\"1\" class=\"dataframe\">\n",
       "  <thead>\n",
       "    <tr style=\"text-align: right;\">\n",
       "      <th></th>\n",
       "      <th>feature_1</th>\n",
       "      <th>feature_2</th>\n",
       "      <th>target</th>\n",
       "    </tr>\n",
       "  </thead>\n",
       "  <tbody>\n",
       "    <tr>\n",
       "      <th>0</th>\n",
       "      <td>0.551302</td>\n",
       "      <td>-0.300232</td>\n",
       "      <td>0</td>\n",
       "    </tr>\n",
       "    <tr>\n",
       "      <th>1</th>\n",
       "      <td>0.419589</td>\n",
       "      <td>-0.632261</td>\n",
       "      <td>0</td>\n",
       "    </tr>\n",
       "    <tr>\n",
       "      <th>2</th>\n",
       "      <td>1.815652</td>\n",
       "      <td>-0.204317</td>\n",
       "      <td>0</td>\n",
       "    </tr>\n",
       "    <tr>\n",
       "      <th>3</th>\n",
       "      <td>-0.252750</td>\n",
       "      <td>0.213696</td>\n",
       "      <td>0</td>\n",
       "    </tr>\n",
       "    <tr>\n",
       "      <th>4</th>\n",
       "      <td>-0.292004</td>\n",
       "      <td>1.033878</td>\n",
       "      <td>0</td>\n",
       "    </tr>\n",
       "    <tr>\n",
       "      <th>...</th>\n",
       "      <td>...</td>\n",
       "      <td>...</td>\n",
       "      <td>...</td>\n",
       "    </tr>\n",
       "    <tr>\n",
       "      <th>95</th>\n",
       "      <td>0.792809</td>\n",
       "      <td>-0.896718</td>\n",
       "      <td>1</td>\n",
       "    </tr>\n",
       "    <tr>\n",
       "      <th>96</th>\n",
       "      <td>-2.030271</td>\n",
       "      <td>0.812571</td>\n",
       "      <td>1</td>\n",
       "    </tr>\n",
       "    <tr>\n",
       "      <th>97</th>\n",
       "      <td>-1.880218</td>\n",
       "      <td>0.637361</td>\n",
       "      <td>1</td>\n",
       "    </tr>\n",
       "    <tr>\n",
       "      <th>98</th>\n",
       "      <td>-1.469470</td>\n",
       "      <td>0.332712</td>\n",
       "      <td>1</td>\n",
       "    </tr>\n",
       "    <tr>\n",
       "      <th>99</th>\n",
       "      <td>-0.592608</td>\n",
       "      <td>0.258237</td>\n",
       "      <td>1</td>\n",
       "    </tr>\n",
       "  </tbody>\n",
       "</table>\n",
       "<p>1000 rows × 3 columns</p>\n",
       "</div>"
      ],
      "text/plain": [
       "    feature_1  feature_2  target\n",
       "0    0.551302  -0.300232       0\n",
       "1    0.419589  -0.632261       0\n",
       "2    1.815652  -0.204317       0\n",
       "3   -0.252750   0.213696       0\n",
       "4   -0.292004   1.033878       0\n",
       "..        ...        ...     ...\n",
       "95   0.792809  -0.896718       1\n",
       "96  -2.030271   0.812571       1\n",
       "97  -1.880218   0.637361       1\n",
       "98  -1.469470   0.332712       1\n",
       "99  -0.592608   0.258237       1\n",
       "\n",
       "[1000 rows x 3 columns]"
      ]
     },
     "execution_count": 19,
     "metadata": {},
     "output_type": "execute_result"
    }
   ],
   "source": [
    "pd.concat([class_0, class_1])"
   ]
  },
  {
   "cell_type": "code",
   "execution_count": 22,
   "id": "002981ed-a6fa-4dfc-8939-f8fd85a1f3cd",
   "metadata": {},
   "outputs": [
    {
     "data": {
      "text/html": [
       "<div>\n",
       "<style scoped>\n",
       "    .dataframe tbody tr th:only-of-type {\n",
       "        vertical-align: middle;\n",
       "    }\n",
       "\n",
       "    .dataframe tbody tr th {\n",
       "        vertical-align: top;\n",
       "    }\n",
       "\n",
       "    .dataframe thead th {\n",
       "        text-align: right;\n",
       "    }\n",
       "</style>\n",
       "<table border=\"1\" class=\"dataframe\">\n",
       "  <thead>\n",
       "    <tr style=\"text-align: right;\">\n",
       "      <th></th>\n",
       "      <th>feature_1</th>\n",
       "      <th>feature_2</th>\n",
       "      <th>target</th>\n",
       "    </tr>\n",
       "  </thead>\n",
       "  <tbody>\n",
       "    <tr>\n",
       "      <th>0</th>\n",
       "      <td>0.551302</td>\n",
       "      <td>-0.300232</td>\n",
       "      <td>0</td>\n",
       "    </tr>\n",
       "    <tr>\n",
       "      <th>1</th>\n",
       "      <td>0.419589</td>\n",
       "      <td>-0.632261</td>\n",
       "      <td>0</td>\n",
       "    </tr>\n",
       "    <tr>\n",
       "      <th>2</th>\n",
       "      <td>1.815652</td>\n",
       "      <td>-0.204317</td>\n",
       "      <td>0</td>\n",
       "    </tr>\n",
       "    <tr>\n",
       "      <th>3</th>\n",
       "      <td>-0.252750</td>\n",
       "      <td>0.213696</td>\n",
       "      <td>0</td>\n",
       "    </tr>\n",
       "    <tr>\n",
       "      <th>4</th>\n",
       "      <td>-0.292004</td>\n",
       "      <td>1.033878</td>\n",
       "      <td>0</td>\n",
       "    </tr>\n",
       "  </tbody>\n",
       "</table>\n",
       "</div>"
      ],
      "text/plain": [
       "   feature_1  feature_2  target\n",
       "0   0.551302  -0.300232       0\n",
       "1   0.419589  -0.632261       0\n",
       "2   1.815652  -0.204317       0\n",
       "3  -0.252750   0.213696       0\n",
       "4  -0.292004   1.033878       0"
      ]
     },
     "execution_count": 22,
     "metadata": {},
     "output_type": "execute_result"
    }
   ],
   "source": [
    "df.head()"
   ]
  },
  {
   "cell_type": "code",
   "execution_count": 23,
   "id": "bcf17620-02f4-4814-bfb9-cb73982a205e",
   "metadata": {},
   "outputs": [
    {
     "data": {
      "text/plain": [
       "0    900\n",
       "1    100\n",
       "Name: target, dtype: int64"
      ]
     },
     "execution_count": 23,
     "metadata": {},
     "output_type": "execute_result"
    }
   ],
   "source": [
    "df['target'].value_counts()"
   ]
  },
  {
   "cell_type": "markdown",
   "id": "fb193f20-1a15-4f0a-bcb6-39555c12a269",
   "metadata": {},
   "source": [
    "#upsampling"
   ]
  },
  {
   "cell_type": "code",
   "execution_count": 27,
   "id": "f99c238f-d3fc-467a-8afe-a673227b3baa",
   "metadata": {},
   "outputs": [],
   "source": [
    "df_minority=df[df['target']==1]\n",
    "df_majority=df[df['target']==0]"
   ]
  },
  {
   "cell_type": "code",
   "execution_count": 28,
   "id": "1b2ba89d-fa7c-48ee-b0af-46baf2f5e65c",
   "metadata": {},
   "outputs": [
    {
     "data": {
      "text/html": [
       "<div>\n",
       "<style scoped>\n",
       "    .dataframe tbody tr th:only-of-type {\n",
       "        vertical-align: middle;\n",
       "    }\n",
       "\n",
       "    .dataframe tbody tr th {\n",
       "        vertical-align: top;\n",
       "    }\n",
       "\n",
       "    .dataframe thead th {\n",
       "        text-align: right;\n",
       "    }\n",
       "</style>\n",
       "<table border=\"1\" class=\"dataframe\">\n",
       "  <thead>\n",
       "    <tr style=\"text-align: right;\">\n",
       "      <th></th>\n",
       "      <th>feature_1</th>\n",
       "      <th>feature_2</th>\n",
       "      <th>target</th>\n",
       "    </tr>\n",
       "  </thead>\n",
       "  <tbody>\n",
       "    <tr>\n",
       "      <th>0</th>\n",
       "      <td>0.551302</td>\n",
       "      <td>-0.300232</td>\n",
       "      <td>0</td>\n",
       "    </tr>\n",
       "    <tr>\n",
       "      <th>1</th>\n",
       "      <td>0.419589</td>\n",
       "      <td>-0.632261</td>\n",
       "      <td>0</td>\n",
       "    </tr>\n",
       "    <tr>\n",
       "      <th>2</th>\n",
       "      <td>1.815652</td>\n",
       "      <td>-0.204317</td>\n",
       "      <td>0</td>\n",
       "    </tr>\n",
       "    <tr>\n",
       "      <th>3</th>\n",
       "      <td>-0.252750</td>\n",
       "      <td>0.213696</td>\n",
       "      <td>0</td>\n",
       "    </tr>\n",
       "    <tr>\n",
       "      <th>4</th>\n",
       "      <td>-0.292004</td>\n",
       "      <td>1.033878</td>\n",
       "      <td>0</td>\n",
       "    </tr>\n",
       "  </tbody>\n",
       "</table>\n",
       "</div>"
      ],
      "text/plain": [
       "   feature_1  feature_2  target\n",
       "0   0.551302  -0.300232       0\n",
       "1   0.419589  -0.632261       0\n",
       "2   1.815652  -0.204317       0\n",
       "3  -0.252750   0.213696       0\n",
       "4  -0.292004   1.033878       0"
      ]
     },
     "execution_count": 28,
     "metadata": {},
     "output_type": "execute_result"
    }
   ],
   "source": [
    "df_majority.head()"
   ]
  },
  {
   "cell_type": "code",
   "execution_count": 29,
   "id": "0afdf719-517c-417a-9093-7c4ba9ce9dec",
   "metadata": {},
   "outputs": [
    {
     "data": {
      "text/html": [
       "<div>\n",
       "<style scoped>\n",
       "    .dataframe tbody tr th:only-of-type {\n",
       "        vertical-align: middle;\n",
       "    }\n",
       "\n",
       "    .dataframe tbody tr th {\n",
       "        vertical-align: top;\n",
       "    }\n",
       "\n",
       "    .dataframe thead th {\n",
       "        text-align: right;\n",
       "    }\n",
       "</style>\n",
       "<table border=\"1\" class=\"dataframe\">\n",
       "  <thead>\n",
       "    <tr style=\"text-align: right;\">\n",
       "      <th></th>\n",
       "      <th>feature_1</th>\n",
       "      <th>feature_2</th>\n",
       "      <th>target</th>\n",
       "    </tr>\n",
       "  </thead>\n",
       "  <tbody>\n",
       "    <tr>\n",
       "      <th>900</th>\n",
       "      <td>0.667532</td>\n",
       "      <td>-1.298881</td>\n",
       "      <td>1</td>\n",
       "    </tr>\n",
       "    <tr>\n",
       "      <th>901</th>\n",
       "      <td>0.100458</td>\n",
       "      <td>-0.764578</td>\n",
       "      <td>1</td>\n",
       "    </tr>\n",
       "    <tr>\n",
       "      <th>902</th>\n",
       "      <td>-0.012610</td>\n",
       "      <td>-0.822786</td>\n",
       "      <td>1</td>\n",
       "    </tr>\n",
       "    <tr>\n",
       "      <th>903</th>\n",
       "      <td>0.219907</td>\n",
       "      <td>-1.120508</td>\n",
       "      <td>1</td>\n",
       "    </tr>\n",
       "    <tr>\n",
       "      <th>904</th>\n",
       "      <td>0.813623</td>\n",
       "      <td>2.119519</td>\n",
       "      <td>1</td>\n",
       "    </tr>\n",
       "  </tbody>\n",
       "</table>\n",
       "</div>"
      ],
      "text/plain": [
       "     feature_1  feature_2  target\n",
       "900   0.667532  -1.298881       1\n",
       "901   0.100458  -0.764578       1\n",
       "902  -0.012610  -0.822786       1\n",
       "903   0.219907  -1.120508       1\n",
       "904   0.813623   2.119519       1"
      ]
     },
     "execution_count": 29,
     "metadata": {},
     "output_type": "execute_result"
    }
   ],
   "source": [
    "df_minority.head()"
   ]
  },
  {
   "cell_type": "code",
   "execution_count": 30,
   "id": "fa136e95-32e6-42b6-893b-9bd991490154",
   "metadata": {},
   "outputs": [],
   "source": [
    "##upsampling perfome.\n",
    "from sklearn.utils import resample"
   ]
  },
  {
   "cell_type": "code",
   "execution_count": 32,
   "id": "eabf7409-828f-4711-9c87-6fe2bbae90af",
   "metadata": {},
   "outputs": [],
   "source": [
    "df_minority_upsample=resample(df_minority,\n",
    "                              replace=True, #sample with replacement\n",
    "                              n_samples=len(df_majority), # To match the majority class.\n",
    "                              random_state=42\n",
    "                             )"
   ]
  },
  {
   "cell_type": "code",
   "execution_count": 34,
   "id": "4791dd96-5dbe-4642-95e9-bbf9b760bf9e",
   "metadata": {},
   "outputs": [
    {
     "data": {
      "text/plain": [
       "(900, 3)"
      ]
     },
     "execution_count": 34,
     "metadata": {},
     "output_type": "execute_result"
    }
   ],
   "source": [
    "df_minority_upsample.shape"
   ]
  },
  {
   "cell_type": "code",
   "execution_count": 36,
   "id": "ee3be1cc-6190-4938-b590-31e600678dc4",
   "metadata": {},
   "outputs": [
    {
     "data": {
      "text/plain": [
       "1    900\n",
       "Name: target, dtype: int64"
      ]
     },
     "execution_count": 36,
     "metadata": {},
     "output_type": "execute_result"
    }
   ],
   "source": [
    "df_minority_upsample['target'].value_counts()"
   ]
  },
  {
   "cell_type": "code",
   "execution_count": 37,
   "id": "4e5be8a2-5939-49df-830a-6727aa24c3be",
   "metadata": {},
   "outputs": [],
   "source": [
    "df_upsample=pd.concat([df_minority_upsample, df_majority])"
   ]
  },
  {
   "cell_type": "code",
   "execution_count": 41,
   "id": "d0ab7d22-8974-4594-9122-0a9dc0a627ed",
   "metadata": {},
   "outputs": [
    {
     "data": {
      "text/plain": [
       "1    900\n",
       "0    900\n",
       "Name: target, dtype: int64"
      ]
     },
     "execution_count": 41,
     "metadata": {},
     "output_type": "execute_result"
    }
   ],
   "source": [
    "df_upsample['target'].value_counts()"
   ]
  },
  {
   "cell_type": "code",
   "execution_count": 42,
   "id": "7e3c0ff1-3364-4d52-a305-e225fd3a4b52",
   "metadata": {},
   "outputs": [
    {
     "data": {
      "text/plain": [
       "(1800, 3)"
      ]
     },
     "execution_count": 42,
     "metadata": {},
     "output_type": "execute_result"
    }
   ],
   "source": [
    "df_upsample.shape"
   ]
  },
  {
   "cell_type": "code",
   "execution_count": null,
   "id": "867f301a-5e1a-4c2b-8831-34e42876bb20",
   "metadata": {},
   "outputs": [],
   "source": []
  },
  {
   "cell_type": "code",
   "execution_count": null,
   "id": "2a0d1b98-8169-4a05-a1a0-8e58ae07f8da",
   "metadata": {},
   "outputs": [],
   "source": [
    "\n"
   ]
  },
  {
   "cell_type": "code",
   "execution_count": 43,
   "id": "07b69f4d-0aa3-4b9c-a297-5e5926fe3c95",
   "metadata": {},
   "outputs": [],
   "source": [
    "#DownSampling"
   ]
  },
  {
   "cell_type": "code",
   "execution_count": 44,
   "id": "8ad814d0-4bb2-4ed8-9413-c2515c6a1454",
   "metadata": {},
   "outputs": [],
   "source": [
    "class_0=pd.DataFrame({\n",
    "    'feature_1':np.random.normal(loc=0,scale=1, size=n_class_0 ),\n",
    "    'feature_2':np.random.normal(loc=0,scale=1, size=n_class_0 ),\n",
    "    'target':[0]*n_class_0\n",
    "\n",
    "})\n",
    "class_1=pd.DataFrame({\n",
    "    'feature_1':np.random.normal(loc=0,scale=1, size=n_class_1),\n",
    "    'feature_2':np.random.normal(loc=0,scale=1, size=n_class_1),\n",
    "    'target':[1]*n_class_1\n",
    "\n",
    "})"
   ]
  },
  {
   "cell_type": "code",
   "execution_count": 46,
   "id": "844d43cf-8f60-41bc-8d4c-bbbdf9afac93",
   "metadata": {},
   "outputs": [],
   "source": [
    "df_minority=df[df['target']==1]\n",
    "df_majority=df[df['target']==0]"
   ]
  },
  {
   "cell_type": "code",
   "execution_count": 47,
   "id": "934ee7c8-efe7-4081-a77a-7336a755cbd0",
   "metadata": {},
   "outputs": [],
   "source": [
    "df_majority_downsample=resample(df_majority,\n",
    "                              replace=False, #sample without replacement\n",
    "                              n_samples=len(df_minority), # To match the minority class.\n",
    "                              random_state=42\n",
    "                             )"
   ]
  },
  {
   "cell_type": "code",
   "execution_count": 49,
   "id": "f82ff3b1-6aef-46aa-8213-8d8b4e725895",
   "metadata": {},
   "outputs": [
    {
     "data": {
      "text/plain": [
       "(100, 3)"
      ]
     },
     "execution_count": 49,
     "metadata": {},
     "output_type": "execute_result"
    }
   ],
   "source": [
    "df_majority_downsample.shape"
   ]
  },
  {
   "cell_type": "code",
   "execution_count": 50,
   "id": "01e93dea-c12a-43c8-b0b4-4211e8dfa8b8",
   "metadata": {},
   "outputs": [
    {
     "data": {
      "text/plain": [
       "0    100\n",
       "Name: target, dtype: int64"
      ]
     },
     "execution_count": 50,
     "metadata": {},
     "output_type": "execute_result"
    }
   ],
   "source": [
    "df_majority_downsample['target'].value_counts()"
   ]
  },
  {
   "cell_type": "code",
   "execution_count": 52,
   "id": "de6bcb76-7515-4803-a5f5-3b5104b16ccf",
   "metadata": {},
   "outputs": [],
   "source": [
    "df_downsample=pd.concat([df_minority, df_majority_downsample])"
   ]
  },
  {
   "cell_type": "code",
   "execution_count": 54,
   "id": "435ea89a-1d9e-4386-b5c4-6ecbff426f77",
   "metadata": {},
   "outputs": [
    {
     "data": {
      "text/plain": [
       "1    100\n",
       "0    100\n",
       "Name: target, dtype: int64"
      ]
     },
     "execution_count": 54,
     "metadata": {},
     "output_type": "execute_result"
    }
   ],
   "source": [
    "df_downsample['target'].value_counts()"
   ]
  },
  {
   "cell_type": "code",
   "execution_count": null,
   "id": "569c4551-0470-407a-a492-c080386c6d34",
   "metadata": {},
   "outputs": [],
   "source": []
  }
 ],
 "metadata": {
  "kernelspec": {
   "display_name": "Python 3 (ipykernel)",
   "language": "python",
   "name": "python3"
  },
  "language_info": {
   "codemirror_mode": {
    "name": "ipython",
    "version": 3
   },
   "file_extension": ".py",
   "mimetype": "text/x-python",
   "name": "python",
   "nbconvert_exporter": "python",
   "pygments_lexer": "ipython3",
   "version": "3.10.8"
  }
 },
 "nbformat": 4,
 "nbformat_minor": 5
}
