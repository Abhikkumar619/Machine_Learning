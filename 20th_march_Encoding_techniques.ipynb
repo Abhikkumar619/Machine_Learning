{
 "cells": [
  {
   "cell_type": "markdown",
   "id": "674d5ea9-f43a-4b1f-924e-64c37d0ca6ae",
   "metadata": {},
   "source": [
    "Q1. What is data encoding? How is it useful in data science?"
   ]
  },
  {
   "cell_type": "code",
   "execution_count": null,
   "id": "4393e02c-3e6d-4cbb-91f4-0a5331c58b02",
   "metadata": {},
   "outputs": [],
   "source": [
    "\"\"\"\n",
    "Data encoding is technique to convert categorical features into numberical suitable features so that we can train our model is data encoding.\n",
    "\n",
    "it is useful in datascience because machine learning algorith only understand numerical data not non-numberic type so that to convert the non-numerical \n",
    "type to numerical types, so that machine can easily understand.\n",
    "\"\"\""
   ]
  },
  {
   "cell_type": "markdown",
   "id": "11275d85-0a5c-4d93-ab82-8d97b9e9c09e",
   "metadata": {},
   "source": [
    "Q2. What is nominal encoding? Provide an example of how you would use it in a real-world scenario."
   ]
  },
  {
   "cell_type": "code",
   "execution_count": null,
   "id": "64b7a7f3-6518-484d-8217-1ca3c93da8d5",
   "metadata": {},
   "outputs": [],
   "source": [
    "\"\"\"\n",
    "Nominal encoding is a technique used to transform categorical variables that have intrinsic ordering into numerical values that can be used in machine \n",
    "learning models. One common method encoding is one-hot-encoding, which creates a binary vector for each category in the variable. \n",
    "it simple it creates additional deatures based on the number od unique values in the categories features.\n",
    "\n",
    "Example : Suppose we have model house price predication. which predicated to price of house based on house location than the location data should be \n",
    "          converted into numerical data so that machine can understand.\n",
    "\"\"\"\n"
   ]
  },
  {
   "cell_type": "markdown",
   "id": "8c69982d-302e-4539-9217-c4718aeaf4f0",
   "metadata": {},
   "source": [
    "Q3. In what situations is nominal encoding preferred over one-hot encoding? Provide a practical example."
   ]
  },
  {
   "cell_type": "code",
   "execution_count": null,
   "id": "17788204-ab15-4699-8b79-3c672298d255",
   "metadata": {},
   "outputs": [],
   "source": [
    "\"\"\"\n",
    "Nominal encoding preferred over-hot-encoding when we have categorical variables that heae no intrinsic ordering\n",
    "into numberical values that used in machine learning models.\n",
    "\n",
    "Example: \n",
    "\"\"\""
   ]
  },
  {
   "cell_type": "code",
   "execution_count": 1,
   "id": "e1b83ac4-04d0-46ab-a82f-b1ae32a654db",
   "metadata": {},
   "outputs": [],
   "source": [
    "import pandas as pd\n",
    "df=pd.DataFrame({\n",
    "    'location':['Nepal', 'India','USA','UK']\n",
    "})\n"
   ]
  },
  {
   "cell_type": "code",
   "execution_count": 3,
   "id": "564af59a-16a5-46e0-8a54-a349ffa3fbec",
   "metadata": {},
   "outputs": [],
   "source": [
    "from sklearn.preprocessing import OneHotEncoder"
   ]
  },
  {
   "cell_type": "code",
   "execution_count": 4,
   "id": "67b80505-f820-4301-9968-3d0182da99d3",
   "metadata": {},
   "outputs": [],
   "source": [
    "obj=OneHotEncoder()"
   ]
  },
  {
   "cell_type": "code",
   "execution_count": 7,
   "id": "ae1442c8-d4bb-439d-94dc-713acb59e514",
   "metadata": {},
   "outputs": [],
   "source": [
    "encoded=obj.fit_transform(df[['location']]).toarray()"
   ]
  },
  {
   "cell_type": "code",
   "execution_count": 10,
   "id": "9156e21b-8bed-4f94-bf8c-605b37b8ef1a",
   "metadata": {},
   "outputs": [
    {
     "data": {
      "text/html": [
       "<div>\n",
       "<style scoped>\n",
       "    .dataframe tbody tr th:only-of-type {\n",
       "        vertical-align: middle;\n",
       "    }\n",
       "\n",
       "    .dataframe tbody tr th {\n",
       "        vertical-align: top;\n",
       "    }\n",
       "\n",
       "    .dataframe thead th {\n",
       "        text-align: right;\n",
       "    }\n",
       "</style>\n",
       "<table border=\"1\" class=\"dataframe\">\n",
       "  <thead>\n",
       "    <tr style=\"text-align: right;\">\n",
       "      <th></th>\n",
       "      <th>location_India</th>\n",
       "      <th>location_Nepal</th>\n",
       "      <th>location_UK</th>\n",
       "      <th>location_USA</th>\n",
       "    </tr>\n",
       "  </thead>\n",
       "  <tbody>\n",
       "    <tr>\n",
       "      <th>0</th>\n",
       "      <td>0.0</td>\n",
       "      <td>1.0</td>\n",
       "      <td>0.0</td>\n",
       "      <td>0.0</td>\n",
       "    </tr>\n",
       "    <tr>\n",
       "      <th>1</th>\n",
       "      <td>1.0</td>\n",
       "      <td>0.0</td>\n",
       "      <td>0.0</td>\n",
       "      <td>0.0</td>\n",
       "    </tr>\n",
       "    <tr>\n",
       "      <th>2</th>\n",
       "      <td>0.0</td>\n",
       "      <td>0.0</td>\n",
       "      <td>0.0</td>\n",
       "      <td>1.0</td>\n",
       "    </tr>\n",
       "    <tr>\n",
       "      <th>3</th>\n",
       "      <td>0.0</td>\n",
       "      <td>0.0</td>\n",
       "      <td>1.0</td>\n",
       "      <td>0.0</td>\n",
       "    </tr>\n",
       "  </tbody>\n",
       "</table>\n",
       "</div>"
      ],
      "text/plain": [
       "   location_India  location_Nepal  location_UK  location_USA\n",
       "0             0.0             1.0          0.0           0.0\n",
       "1             1.0             0.0          0.0           0.0\n",
       "2             0.0             0.0          0.0           1.0\n",
       "3             0.0             0.0          1.0           0.0"
      ]
     },
     "execution_count": 10,
     "metadata": {},
     "output_type": "execute_result"
    }
   ],
   "source": [
    "pd.DataFrame(encoded, columns=obj.get_feature_names_out())"
   ]
  },
  {
   "cell_type": "markdown",
   "id": "a4453732-fa6c-4611-8e90-d2eebdfd1f7d",
   "metadata": {},
   "source": [
    "Q4. Suppose you have a dataset containing categorical data with 5 unique values. Which encoding\n",
    "technique would you use to transform this data into a format suitable for machine learning algorithms?\n",
    "Explain why you made this choice."
   ]
  },
  {
   "cell_type": "code",
   "execution_count": null,
   "id": "ba151ddc-c5c3-4ca6-97de-0b2c23e8e055",
   "metadata": {},
   "outputs": [],
   "source": [
    "\"\"\"\n",
    "In this sceaniro One hot encoding technique i preffred to use  to convert categorical variables into numerical variables\n",
    "because in this techique each categoriacl features converted into bineary value 0 and 1. where 1 indicates presence or absence of vaiables in\n",
    "features. also in this sceaniro there is small categorical features also unique value. it make seprate features for each categories so that machine model can \n",
    "easily process.\n",
    "\"\"\""
   ]
  },
  {
   "cell_type": "markdown",
   "id": "13496830-c792-4ea9-8172-e0d12a56c792",
   "metadata": {},
   "source": [
    "Q5. In a machine learning project, you have a dataset with 1000 rows and 5 columns. Two of the columns\n",
    "are categorical, and the remaining three columns are numerical. If you were to use nominal encoding to\n",
    "transform the categorical data, how many new columns would be created? Show your calculations."
   ]
  },
  {
   "cell_type": "code",
   "execution_count": null,
   "id": "d5ffb5b0-86d0-43e6-8523-bc44bd39f332",
   "metadata": {},
   "outputs": [],
   "source": [
    "\"\"\"\n",
    "if we use nominal encoding in this sceaniro than, we have total two categoriacal columns.\n",
    "lets us considerd 1st columns have 2 unique value where as 2nd columns have three unique features than using the niminal encoding \n",
    "1st columns create = 2 new features.\n",
    "2nd columns create = 3 new features.  (new features depends upon unique value)\n",
    "\n",
    "so we have total = 2+3 features \n",
    "                 = 5 new features in the dataset.\n",
    "\"\"\""
   ]
  },
  {
   "cell_type": "markdown",
   "id": "3e44104f-a118-4cc7-8e92-064c8b344381",
   "metadata": {},
   "source": [
    "Q6. You are working with a dataset containing information about different types of animals, including their\n",
    "species, habitat, and diet. Which encoding technique would you use to transform the categorical data into\n",
    "a format suitable for machine learning algorithms? Justify your answer."
   ]
  },
  {
   "cell_type": "code",
   "execution_count": null,
   "id": "aae54800-9e9c-495f-9278-8f8e06025be3",
   "metadata": {},
   "outputs": [],
   "source": [
    "\"\"\"\n",
    "One-Hot Encoding is suitable for categorical features with a relatively small number of unique values, \n",
    "such as the habitat or diet of the animals. One-Hot Encoding will create a new binary feature for each unique value in \n",
    "the categorical feature, which can capture the variation in the data and make it suitable for machine learning algorithms.\n",
    "On the other hand, Label Encoding can be used for categorical features with a larger number of unique values, such as the species of the animals.\n",
    "Label Encoding involves assigning a unique numerical label to each unique value in the categorical feature. This can reduce the dimensionality\n",
    "of the feature space and make it easier for some machine learning algorithms to process the data\n",
    "\"\"\""
   ]
  },
  {
   "cell_type": "markdown",
   "id": "0abb14bc-ced2-4cbe-8181-bb46c285ca01",
   "metadata": {},
   "source": [
    "Q7.You are working on a project that involves predicting customer churn for a telecommunications\n",
    "company. You have a dataset with 5 features, including the customer's gender, age, contract type,\n",
    "monthly charges, and tenure. Which encoding technique(s) would you use to transform the categorical\n",
    "data into numerical data? Provide a step-by-step explanation of how you would implement the encoding."
   ]
  },
  {
   "cell_type": "code",
   "execution_count": null,
   "id": "f608f710-6f6e-4552-85e6-353e4cf633d3",
   "metadata": {},
   "outputs": [],
   "source": [
    "\"\"\"\n",
    "In this sceaniro dataset with 5 features including the customer's gender, age , contract type and monthly charges and tensure.\n",
    "here categorial features are: Customer's gender, and contract type.\n",
    "                              Numerical features : Age, Monthly charges, tensure.\n",
    "\n",
    "so to convert categorical features gender we use OneHotEncoding for Contract type we use LabelEncoding.\n"
   ]
  },
  {
   "cell_type": "code",
   "execution_count": 1,
   "id": "898e0890-a7c5-4156-a37f-a570932daa86",
   "metadata": {},
   "outputs": [],
   "source": [
    "from sklearn.preprocessing import OneHotEncoder\n",
    "from sklearn.preprocessing import LabelEncoder"
   ]
  },
  {
   "cell_type": "code",
   "execution_count": 2,
   "id": "d6eecdc9-4ba0-49c4-ad0a-cd487e08daec",
   "metadata": {},
   "outputs": [],
   "source": [
    "obj_hot=OneHotEncoder()\n",
    "obj_leb=LabelEncoder()"
   ]
  },
  {
   "cell_type": "code",
   "execution_count": null,
   "id": "c30bdc72-5606-4e57-a530-a094f5be7759",
   "metadata": {},
   "outputs": [],
   "source": [
    "obj_hot.fit_transform(df[['gender']])"
   ]
  },
  {
   "cell_type": "code",
   "execution_count": null,
   "id": "252b47aa-d4b7-4ae3-91af-dc68954ead81",
   "metadata": {},
   "outputs": [],
   "source": [
    "obj_leb.fit_transform(df[['contract_type']])"
   ]
  }
 ],
 "metadata": {
  "kernelspec": {
   "display_name": "Python 3 (ipykernel)",
   "language": "python",
   "name": "python3"
  },
  "language_info": {
   "codemirror_mode": {
    "name": "ipython",
    "version": 3
   },
   "file_extension": ".py",
   "mimetype": "text/x-python",
   "name": "python",
   "nbconvert_exporter": "python",
   "pygments_lexer": "ipython3",
   "version": "3.10.8"
  }
 },
 "nbformat": 4,
 "nbformat_minor": 5
}
