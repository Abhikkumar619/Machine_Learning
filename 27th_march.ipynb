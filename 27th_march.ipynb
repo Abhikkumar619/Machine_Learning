{
 "cells": [
  {
   "cell_type": "markdown",
   "id": "91722543-0227-40ef-bd41-c8fd45f195e9",
   "metadata": {},
   "source": [
    "Q1. Explain the concept of R-squared in linear regression models. How is it calculated, and what does it\n",
    "represent?"
   ]
  },
  {
   "cell_type": "code",
   "execution_count": null,
   "id": "7b0c85ca-91f3-4059-af89-d181faf752db",
   "metadata": {},
   "outputs": [],
   "source": [
    " \"\"\"\n",
    "R-squared is commenly used evaluation to measure the performance of regression models.it is a statisticl\n",
    "measure that represent the proportion of the variance in the dependent variable that is explained\n",
    "by the independent variables in the model.\n",
    "-it ranges form 0 to 1.\n",
    "- 1 indicates that all the variability in the dependent variable is explained by the independent variable in \n",
    "  the model.\n",
    "- o indeicates that independent variable do not explain any of the variability on the dependent variable.\n",
    "\n",
    "   Rsquared= 1-SSres/SStotal \n",
    "\n",
    "SSres- difference between actual point and predicted point and we will do sum of all error.\n",
    "SStotal - Average of yi datapoint.\n",
    "\"\"\"\n"
   ]
  },
  {
   "cell_type": "markdown",
   "id": "9a59a5e4-28c7-461e-a6e7-3bf3a36d1af7",
   "metadata": {},
   "source": [
    "Q2. Define adjusted R-squared and explain how it differs from the regular R-squared."
   ]
  },
  {
   "cell_type": "code",
   "execution_count": null,
   "id": "519a5582-df46-439f-abee-6a24bca99e09",
   "metadata": {},
   "outputs": [],
   "source": [
    "\"\"\"\n",
    "Adjusted R-squared is the modified version of R-squared , basically the adjusted R-squared value adjust the \n",
    "R-squared value by penalizing the addition of unncessary independent  that do not improve the fit of the model.\n",
    "\n",
    " it is difers form R-squared by adding more independent variabels to a model can increase the R-squared value, even \n",
    " if those variables do not contibute significanty to explaining the variability in the dependent variable \n",
    " but in adjusted R-squared reject the variable which do not contriute more.\n",
    " \"\"\""
   ]
  },
  {
   "cell_type": "markdown",
   "id": "2db71203-b958-4dcf-8ed4-3577d206ab66",
   "metadata": {},
   "source": [
    "Q3. When is it more appropriate to use adjusted R-squared?"
   ]
  },
  {
   "cell_type": "code",
   "execution_count": null,
   "id": "459689f4-f89d-4f0d-9501-13e5507a8b02",
   "metadata": {},
   "outputs": [],
   "source": [
    "\"\"\"\n",
    "It is appropriate to use adjusted R-squared when there number of features in dataset is more and each\n",
    "some features contribute less variability in dependent vaiable so the model perfomance increases even though \n",
    "the features do not contribute more in dependent variable to reslove this problem we use adjusted R-squared.\n",
    "\"\"\""
   ]
  },
  {
   "cell_type": "markdown",
   "id": "cdd5a9ca-9d78-4047-b954-37e475d9e643",
   "metadata": {},
   "source": [
    "Q4. What are RMSE, MSE, and MAE in the context of regression analysis? How are these metrics\n",
    "calculated, and what do they represent?"
   ]
  },
  {
   "cell_type": "code",
   "execution_count": null,
   "id": "1b2e61ea-ea5d-4ac4-a5c7-0e4204af8dd5",
   "metadata": {},
   "outputs": [],
   "source": [
    "\"\"\"\n",
    "Mean Squared Error\n",
    "MSE is the average squared difference between the actual and predicated values. \n",
    " formula : summation(y-yi)/n\n",
    " \n",
    "Uses: MSE is useful when we want to evaluate the accuracy of a model and errors should be penalized more they\n",
    "are large.\n",
    "\n",
    "Mean Absolute Error\n",
    "MAE is the average absolute difference between the actual value and predicted value.\n",
    "  formula: summation: |y-yi|/ n\n",
    "  \n",
    "uses: It is useful when we want to evaluate the accuracy of a model and errors should be penalized equally,\n",
    "regardless of wheather they are positive or neagative.\n",
    "\n",
    "\n",
    "Root mean Squared error: \n",
    "RMSE is squared root of the mean squared error.\n",
    " formula : RMSE: sqrt(summation(y-yi)/n)\n",
    "\n",
    "uses: RMSE is useful when we want to evaluate the accuracy of a model and the errors should be penalised more \n",
    "      when they are large.\n",
    "\"\"\"\n"
   ]
  },
  {
   "cell_type": "markdown",
   "id": "6f0b5341-a687-498b-8f20-5d4192811a6e",
   "metadata": {},
   "source": [
    "Q5. Discuss the advantages and disadvantages of using RMSE, MSE, and MAE as evaluation metrics in\n",
    "regression analysis."
   ]
  },
  {
   "cell_type": "code",
   "execution_count": null,
   "id": "1cb695d2-3ea7-4d6f-a92e-eb26c3e80a9c",
   "metadata": {},
   "outputs": [],
   "source": [
    "\"\"\"\n",
    "Mean squared error: \n",
    "Advantage\n",
    "1. The equation is differentiable.\n",
    "2. It has only one local or globel minim.\n",
    "\n",
    "Disadvantage: \n",
    "1. Not Robust to outlier.\n",
    "2. It is not in the same unit.\n",
    "\n",
    "Mean Absolute Error(MAE):\n",
    "\n",
    "Advantage: \n",
    "1. Robust to outlier.\n",
    "2. It will be in the same unit.\n",
    "\n",
    "Disadvantage: \n",
    "1. Convergence usually takes more time.\n",
    "\n",
    "Root mean squared error: \n",
    "\n",
    "Advantage: \n",
    "1. it is in same unit. \n",
    "2. The equation is differentiable.\n",
    "\n",
    "Disadvantage: \n",
    "1. Not Roubust to outlier.\n",
    "\"\"\""
   ]
  },
  {
   "cell_type": "markdown",
   "id": "b1eba7da-7310-43ef-9e30-acd6d71fdd00",
   "metadata": {},
   "source": [
    "Q6. Explain the concept of Lasso regularization. How does it differ from Ridge regularization, and when is\n",
    "it more appropriate to use?"
   ]
  },
  {
   "cell_type": "code",
   "execution_count": null,
   "id": "eb207193-640a-40fc-bd14-b58ad5b84ef6",
   "metadata": {},
   "outputs": [],
   "source": [
    "\"\"\"\n",
    "It is type of linear Regression that is used for feature selection. This technique helps to use fewer features\n",
    "in the final regression equation.\n",
    "In linear regression models the high num features may suffers from overfitting. when model is to complex and \n",
    "fits the training data to closely, resulting poor performance in new data. Lasso Regression help us to identify\n",
    "the most important variable and reducing the complexity of the model.\n",
    "\n",
    "It is differ from ridge regularization by basically lasso ragression helps us to reduce overfitting by\n",
    "penalizing the coeffiecent of variabel but in the Lasso regression the feature selection happen by correaltion.\n",
    "\n",
    "When we have many number of features in the dataset and model accuracy tends to hunderd percentage to reduce from \n",
    "over fitting use Lasso regression.\n",
    "\"\"\""
   ]
  },
  {
   "cell_type": "markdown",
   "id": "7e500fdc-4e95-48f8-ac09-d04703ecfa78",
   "metadata": {},
   "source": [
    "Q7. How do regularized linear models help to prevent overfitting in machine learning? Provide an\n",
    "example to illustrate."
   ]
  },
  {
   "cell_type": "code",
   "execution_count": null,
   "id": "d540a471-2544-4411-92de-2d35bdac7f1b",
   "metadata": {},
   "outputs": [],
   "source": [
    "\"\"\"\n",
    "Regularized linear models help prevent overfitting in machine learning by adding a penalty term to \n",
    "the loss function during the training process. The primary goal of regularization is to limit the model's\n",
    "complexity and keep its parameters in check, thus reducing the risk of overfitting,\n",
    "where the model becomes too specialized to the training data and performs poorly on unseen data.\n",
    "\"\"\""
   ]
  },
  {
   "cell_type": "markdown",
   "id": "045a20e7-e854-4602-8e72-b2af65030b33",
   "metadata": {},
   "source": [
    "Q8. Discuss the limitations of regularized linear models and explain why they may not always be the best\n",
    "choice for regression analysis."
   ]
  },
  {
   "cell_type": "code",
   "execution_count": null,
   "id": "b41a7d8b-7b4b-44ff-bfe9-bcf4b79a280d",
   "metadata": {},
   "outputs": [],
   "source": [
    "\"\"\"\n",
    "1.Loss of Model Interpretability:\n",
    "L1 regularization (Lasso) tends to shrink some coefficients to exactly zero, leading to feature selection. \n",
    "While this can be beneficial for reducing model complexity and removing irrelevant features, it comes at the cost\n",
    "of interpretability. When certain features are eliminated, it becomes harder to understand the model's behavior\n",
    "and identify the most influential predictors.\n",
    "\n",
    "\n",
    "2. Hyperparameter Tuning:\n",
    "Selecting the right value for this hyperparameter can be challenging and time-consuming, especially \n",
    "when dealing with large datasets and high-dimensional feature spaces.\n",
    "\n",
    "3.Computational Complexity:\n",
    "While regularized linear models are computationally efficient compared to some more \n",
    "complex models, they can still become slow and memory-intensive for very large datasets or high-dimensional feature spaces.\n"
   ]
  },
  {
   "cell_type": "markdown",
   "id": "42a0a40d-7d6a-4aba-a762-aa6360a9f74e",
   "metadata": {},
   "source": [
    "Q9. You are comparing the performance of two regression models using different evaluation metrics.\n",
    "Model A has an RMSE of 10, while Model B has an MAE of 8. Which model would you choose as the better\n",
    "performer, and why? Are there any limitations to your choice of metric?"
   ]
  },
  {
   "cell_type": "code",
   "execution_count": null,
   "id": "f34a3022-4d01-4483-8596-ae181ac35bc6",
   "metadata": {},
   "outputs": [],
   "source": [
    "\"\"\"\n",
    "Limitations of RMSE:\n",
    "\n",
    "1.RMSE gives higher weight to large errors, making it sensitive to outliers. If the dataset contains significant outliers,\n",
    "RMSE may not accurately represent the overall model performance.\n",
    "\n",
    "2.RMSE is influenced by the scale of the target variable. For instance, if the target variable has a large range, RMSE\n",
    "    values will be larger, making it harder to compare models across different datasets. \n",
    "    \n",
    "3. When comparing models with different scales, RMSE can be misleading, asit is not directly interpretable in the original \n",
    "    units of the target variable.\n",
    "\n",
    "Limitations of MAE:\n",
    "1.MAE treats all errors equally, irrespective of their magnitude. While this makes it less sensitive to outliers than RMSE, it may not \n",
    "    effectively capture the significance of large errors in some scenarios.\n",
    "2. MAE lacks the smoothness property of RMSE, making it less suitable for some optimization techniques that rely on smooth gradients.\n",
    "\n",
    "\n",
    "\n",
    "Considering these limitations, it is important to select an evaluation metric that aligns with the specific problem and the nature of the data.\n",
    "In this case, both RMSE and MAE provide valuable insights into the model's performance, but the final choice should be made based on the \n",
    "problem's requirements and preferences regarding the impact of large errors and outliers. If the problem is more sensitive to large errors\n",
    "and outliers, MAE might be a better choice. However, if the problem requires considering the variance of errors and penalizing larger \n",
    "errors more, RMSE could be preferred. Ultimately, the decision depends on the context and objectives of the regression analysis.\n"
   ]
  },
  {
   "cell_type": "code",
   "execution_count": null,
   "id": "68342463-bbc8-418a-b99d-0ef1a87a9477",
   "metadata": {},
   "outputs": [],
   "source": []
  }
 ],
 "metadata": {
  "kernelspec": {
   "display_name": "Python 3 (ipykernel)",
   "language": "python",
   "name": "python3"
  },
  "language_info": {
   "codemirror_mode": {
    "name": "ipython",
    "version": 3
   },
   "file_extension": ".py",
   "mimetype": "text/x-python",
   "name": "python",
   "nbconvert_exporter": "python",
   "pygments_lexer": "ipython3",
   "version": "3.10.8"
  }
 },
 "nbformat": 4,
 "nbformat_minor": 5
}
