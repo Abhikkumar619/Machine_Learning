{
 "cells": [
  {
   "cell_type": "markdown",
   "id": "b2644bc8-86f6-42ed-95e9-2d131e5d8367",
   "metadata": {},
   "source": [
    "Q1. Explain the difference between simple linear regression and multiple linear regression. Provide an\n",
    "example of each."
   ]
  },
  {
   "cell_type": "code",
   "execution_count": null,
   "id": "1313f722-4ecd-48d3-85b3-6596208e9ef8",
   "metadata": {},
   "outputs": [],
   "source": [
    "\"\"\"\n",
    "Simple Linear Regression:\n",
    "\n",
    "-Simple Linear Regression algorithm is type of regression algoritm which shows the relation betwenn dependent and indeopendent\n",
    "variable and single independent variablel. \n",
    "\n",
    "- This relationship shows the sloped of st.line hence it is called Simple Linear Regression.\n",
    "\n",
    "- The key point in simple liner regression is that dependent variable must be continuous value.\n",
    "\n",
    "- The simple linear regression model can represented using: y= a0+a1x+ ε \n",
    "\n",
    "Multiple Linear Regression:\n",
    "\n",
    "- Multiple Linear regression model the linear relationship between a single dependent continuois variable and more than one independent variable\n",
    "- The predictor variable must the linear relationship with dependent variable. \n",
    "\n",
    "- MLR tries to fit a regression line through a multidimensional space of data points.\n",
    "\n"
   ]
  },
  {
   "cell_type": "markdown",
   "id": "31a1f570-c75c-4a6b-9d68-5c7488273446",
   "metadata": {},
   "source": [
    "Discuss the assumptions of linear regression. How can you check whether these assumptions hold in\n",
    "a given dataset?"
   ]
  },
  {
   "cell_type": "code",
   "execution_count": null,
   "id": "596b3a7b-ab9f-4740-894c-547a28c2b0ad",
   "metadata": {},
   "outputs": [],
   "source": [
    "\"\"\"\n",
    "Assumptions for  Linear regression: \n",
    "\n",
    "1. A linear relationsip should exist between the target and predictor variable.\n",
    "2. The regression residuals must be normally distributed.\n",
    "3. No multicolliearity in data.\n"
   ]
  },
  {
   "cell_type": "markdown",
   "id": "d7017de9-8407-439d-b75c-a18f6353dd3f",
   "metadata": {},
   "source": [
    "Q3. How do you interpret the slope and intercept in a linear regression model? Provide an example using\n",
    "a real-world scenario."
   ]
  },
  {
   "cell_type": "code",
   "execution_count": null,
   "id": "722e2374-8173-4942-b893-336a73862b83",
   "metadata": {},
   "outputs": [],
   "source": [
    "\"\"\"\n",
    "In a linear regression model, the slope and intercept : \n",
    "\n",
    "1. Slope : The slope represents the change in the dependent variabel(Y) for a one-unit change in the independent variable(X)\n",
    "           . It indicates the rate of change or the impact og the independent vaiable on the dependent vaiabel . \n",
    "           \n",
    "2. Intercept: The intercept is the predicted value of the dependent variabel when the independent variabel is zero. it represents the starting point or the baseline value og the dependent variabel. \n",
    "\n",
    " Real-world Scenario: \n",
    "suppose to predict housing prices based on the size of the house.\n",
    "\n",
    "price = intercept+slope*size.\n",
    "\n",
    "The slope represents the inpact of the house size on the price, indicating the average price increasing per square foot.\n"
   ]
  },
  {
   "cell_type": "markdown",
   "id": "044dcdc1-30db-499d-bb30-d24dfabe53ed",
   "metadata": {},
   "source": [
    "Q4. Explain the concept of gradient descent. How is it used in machine learning?"
   ]
  },
  {
   "cell_type": "code",
   "execution_count": null,
   "id": "68023c2b-3605-4b16-9fbc-5c1b68342988",
   "metadata": {},
   "outputs": [],
   "source": [
    "\"\"\"\n",
    "The gradient descent is the optimazation algorithm used in machine learning to reduce the loss function by \n",
    "change the value of slope and intercept untill it reach to globel minima is known as gradient descent. \n",
    "\n",
    "Gradient descent is used in machine learning By: \n",
    "\n",
    "1. First we need to define the model artihitecture and its parameter. like in linear regression parameter like \n",
    "   slope ad intercept. \n",
    "\n",
    "2. Define the loss function: It computes the error between the predicted output and actual output the is to find the \n",
    "   paramter that minimize this loss function.\n",
    "\n",
    "3. Intialize parameters: initialize the paramater of the model with some random value. these paramater will be updated iteratively.\n",
    "\n",
    "4. Calculate the gradient: The gradient represent  of loss function with respect to parameter.\n",
    "\n",
    "5. Update the paremater: Update the parameter of the model by taking a step in the direction of the negative gradient. \n",
    "\n",
    "6. repeat steps 4 and 5: Repeat the process of calculating the gradient and updating the parameter untill we convergence criteria and met. "
   ]
  },
  {
   "cell_type": "markdown",
   "id": "0664b105-9b8f-4809-ae8c-35719328b377",
   "metadata": {},
   "source": [
    "Q5. Describe the multiple linear regression model. How does it differ from simple linear regression?"
   ]
  },
  {
   "cell_type": "code",
   "execution_count": null,
   "id": "c8ec30f5-1044-46f3-a0cc-dd13bc34d069",
   "metadata": {},
   "outputs": [],
   "source": [
    "\"\"\"\n",
    "Multiple linear regression is the model the linear relationship between a single dependent continuous variable and more then one independent variable.\n",
    "\n",
    "- The target variabel must be the continuous/real value but independent variabel may be in continous or categorical form. \n",
    "\n",
    "- The Each feature must model liner relationship with dependent variable.\n",
    "\n",
    "equation of MLR equation: \n",
    "Y= b<sub>0</sub>+b<sub>1</sub>x<sub>1</sub>+ b<sub>2</sub>x<sub>2</sub>+ b<sub>3</sub>x<sub>3</sub>+...... bnxn       ............... (a)  "
   ]
  },
  {
   "cell_type": "markdown",
   "id": "ed26ddfa-85ea-4086-a923-004414135266",
   "metadata": {},
   "source": [
    "Q6. Explain the concept of multicollinearity in multiple linear regression. How can you detect and\n",
    "address this issue?"
   ]
  },
  {
   "cell_type": "code",
   "execution_count": null,
   "id": "f2080392-385c-4f5c-9083-917a948815a9",
   "metadata": {},
   "outputs": [],
   "source": [
    "\"\"\"\n",
    "Multicollinearity can be define as the the presence of high correaltion between two or more independent varaibles.\n",
    "This is essentially phenomenon in which independent variable are correlated with one other.\n",
    "\n",
    "We can detect the and address the issue by first we see the correlation features by heatmap and than\n",
    "we delete the feature having high correlation"
   ]
  },
  {
   "cell_type": "markdown",
   "id": "2d5d5f16-e8b6-4808-8cd8-02f534faeb7e",
   "metadata": {},
   "source": [
    "Q7. Describe the polynomial regression model. How is it different from linear regression?"
   ]
  },
  {
   "cell_type": "code",
   "execution_count": null,
   "id": "4cd144f9-1fca-4580-8e35-1304835010f0",
   "metadata": {},
   "outputs": [],
   "source": [
    "\"\"\"\n",
    "Polynomial Regression is a regression algorithm the models the relationship dependent nd independent variabel as nth dgree polynimial. \n",
    "Equation of Polynomial equation: \n",
    "y= b0+b1x1+ b2x12+ b2x13+...... bnx1n\n",
    "The dateset used in polynomial regression for training is of non-linear nature.\n",
    "\n",
    "It is differ from linear regression by linear regression model it used to dataset having linear relationship between dependent and independent variable\n",
    "where as the dataset having non linear relationship between dependent and independent variable than we use polynomial regression. \n"
   ]
  },
  {
   "cell_type": "markdown",
   "id": "fc6d59ff-4e20-4a7a-aecd-83fd9949a4f5",
   "metadata": {},
   "source": [
    "Q8. What are the advantages and disadvantages of polynomial regression compared to linear\n",
    "regression? In what situations would you prefer to use polynomial regression?"
   ]
  },
  {
   "cell_type": "code",
   "execution_count": null,
   "id": "ae4f4395-ef85-47cd-9be0-597cea43c0c2",
   "metadata": {},
   "outputs": [],
   "source": [
    "\"\"\"\n",
    "Advantages of Polynomial Regression:\n",
    "\n",
    "Captures non: linear relationships: Polynomial regression can capture more complex\n",
    "relationships between the input and output variables compared to linear regression.\n",
    "It can model curved or non-linear patterns in the data by using higher-order polynomial terms.\n",
    "\n",
    "Flexibility: By adjusting the degree of the polynomial, you can control the flexibility of the model. \n",
    "Higher-degree polynomials can fit the training data more closely and capture intricate relationships.\n",
    "\n",
    "\n",
    "Disadvantages of Polynomial Regression:\n",
    "\n",
    "Overfitting: Polynomial regression is prone to overfitting, especially when using higher-degree polynomials.\n",
    "Overfitting occurs when the model becomes too complex and starts to fit noise or random fluctuations in the training data.\n",
    "This can lead to poor generalization on unseen data.\n",
    "\n",
    "Interpretability: Polynomial regression models can become difficult to interpret as the degree of the polynomial increases.\n",
    "Higher-degree polynomials introduce more parameters, making it challenging to interpret the impact of individual features on the output.\n",
    "\n",
    "when to use polynomial regression: \n",
    " \n",
    "When the relationship between the input and output variables exhibits non-linear patterns,\n",
    "polynomial regression can be a good choice. It allows you to capture curved or non-linear trends in the data."
   ]
  }
 ],
 "metadata": {
  "kernelspec": {
   "display_name": "Python 3 (ipykernel)",
   "language": "python",
   "name": "python3"
  },
  "language_info": {
   "codemirror_mode": {
    "name": "ipython",
    "version": 3
   },
   "file_extension": ".py",
   "mimetype": "text/x-python",
   "name": "python",
   "nbconvert_exporter": "python",
   "pygments_lexer": "ipython3",
   "version": "3.10.8"
  }
 },
 "nbformat": 4,
 "nbformat_minor": 5
}
